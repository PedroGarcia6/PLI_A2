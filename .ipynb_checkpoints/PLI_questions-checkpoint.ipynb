{
 "cells": [
  {
   "cell_type": "markdown",
   "metadata": {},
   "source": [
    "# Entrega da A2 da disciplina de Programação Linear e Inteira\n",
    "\n",
    "Integrantes:\n",
    "\n",
    "- Edilton Brandão\n",
    "- Pedro Garcia\n",
    "- Lucas Westfal"
   ]
  },
  {
   "cell_type": "markdown",
   "metadata": {},
   "source": [
    "A modelagem dos problemas abaixo foi feita nas listas e na prova da disciplina. O presente trabalho busca apenas resolvê-los computacionalmente.\n",
    "\n",
    "Para auxiliar nas resoluções, utilizamos o JuMP e implementamos uma função \"PLI\" que recebe os dados do problema (função objetivo, variáveis, restrições) matricialmente. A sintaxe tradicional do JuMP também foi utilizada em alguns problemas. As soluções indicam o tipo de método utilizado (alguns problemas foram feitos de ambos os modos).\n",
    "\n",
    "Nosso repositório: https://github.com/PedroGarcia6/PLI_A2."
   ]
  },
  {
   "cell_type": "code",
   "execution_count": 2,
   "metadata": {
    "tags": []
   },
   "outputs": [
    {
     "name": "stderr",
     "output_type": "stream",
     "text": [
      "WARNING: using LinearAlgebra.I in module Main conflicts with an existing identifier.\n"
     ]
    },
    {
     "data": {
      "text/plain": [
       "Plots.PyPlotBackend()"
      ]
     },
     "execution_count": 2,
     "metadata": {},
     "output_type": "execute_result"
    }
   ],
   "source": [
    "using LinearAlgebra\n",
    "using JuMP\n",
    "using GLPK\n",
    "using Plots\n",
    "using Distributions\n",
    "using Random\n",
    "pyplot()"
   ]
  },
  {
   "cell_type": "markdown",
   "metadata": {
    "jp-MarkdownHeadingCollapsed": true,
    "tags": []
   },
   "source": [
    "# Definindo função que resolve problemas genericamente"
   ]
  },
  {
   "cell_type": "code",
   "execution_count": 23,
   "metadata": {
    "tags": []
   },
   "outputs": [
    {
     "data": {
      "text/plain": [
       "PLI (generic function with 1 method)"
      ]
     },
     "execution_count": 23,
     "metadata": {},
     "output_type": "execute_result"
    }
   ],
   "source": [
    "function PLI(max_min, i, j, weights, A, b, C, d, E, f)\n",
    "    model = Model(GLPK.Optimizer) # Cria modelo\n",
    "    p = length(weights)\n",
    "\n",
    "    # Define variáveis\n",
    "    @variable(model, x[1:i, 1:j] >= 0)\n",
    "    x = reshape(x', p, 1)\n",
    "\n",
    "    # Define restrições\n",
    "    for l in 1:length(f)\n",
    "        @constraint(model, (E*x)[l] >= f[l]) # Restrições de desigualdade >=\n",
    "    end\n",
    "    for m in 1:length(b)\n",
    "        @constraint(model, (A*x)[m] == b[m]) # Restrições de igualdade\n",
    "    end\n",
    "    for n in 1:length(d)\n",
    "        @constraint(model, (C*x)[n] <= d[n]) # Restrições de desigualdade <=\n",
    "    end\n",
    "\n",
    "    # Define função objetivo\n",
    "    if max_min == 1\n",
    "        @objective(model, Max, sum(weights[k] * x[k] for k in 1:p)) # Problema de maximização\n",
    "    else\n",
    "        @objective(model, Min, sum(weights[k] * x[k] for k in 1:p)) # Problema de minimização\n",
    "    end\n",
    "    \n",
    "    # Roda a otimização\n",
    "    optimize!(model)\n",
    "    \n",
    "    # Exibe resultados\n",
    "    println(\"Função objetivo: \", objective_function(model))\n",
    "    println()\n",
    "    println(\"Valor ótimo: \", objective_value(model))\n",
    "    println()\n",
    "    println(\"Solução ótima:\")\n",
    "    for k in 1:p\n",
    "        println(x[k], \" = \", value(x[k]))\n",
    "    end\n",
    "end"
   ]
  },
  {
   "cell_type": "markdown",
   "metadata": {
    "tags": []
   },
   "source": [
    "# Lista 1"
   ]
  },
  {
   "cell_type": "markdown",
   "metadata": {
    "jp-MarkdownHeadingCollapsed": true,
    "tags": []
   },
   "source": [
    "## Questão 1\n",
    "![Questão 1](figs/L1E1.png)"
   ]
  },
  {
   "cell_type": "code",
   "execution_count": 24,
   "metadata": {
    "tags": []
   },
   "outputs": [
    {
     "name": "stdout",
     "output_type": "stream",
     "text": [
      "Função objetivo: x[1,1] + 1.5 x[1,2] + 3.5 x[1,3] + 2 x[2,1] + x[2,2] + 2 x[2,3]\n",
      "\n",
      "Valor ótimo: 1000.0\n",
      "\n",
      "Solução ótima:\n",
      "x[1,1] = 100.0\n",
      "x[1,2] = 200.0\n",
      "x[1,3] = 0.0\n",
      "x[2,1] = 0.0\n",
      "x[2,2] = 0.0\n",
      "x[2,3] = 300.0\n"
     ]
    }
   ],
   "source": [
    "# Problema das usinas da fábrica (Q1-L1)\n",
    "E = [1 0 0 1 0 0;0 1 0 0 1 0;0 0 1 0 0 1]\n",
    "f = [100;200;300]\n",
    "C = [1 1 1 0 0 0;0 0 0 1 1 1]\n",
    "d = [400;300]\n",
    "weights = [1 1.5 3.5 2 1 2]\n",
    "i = 2\n",
    "j = 3\n",
    "\n",
    "PLI(0, i, j, weights, 0, 0, C, d, E, f)"
   ]
  },
  {
   "cell_type": "markdown",
   "metadata": {
    "jp-MarkdownHeadingCollapsed": true,
    "tags": []
   },
   "source": [
    "## Questão 2\n",
    "![Questão 1](figs/L1E2.png)"
   ]
  },
  {
   "cell_type": "code",
   "execution_count": 25,
   "metadata": {},
   "outputs": [
    {
     "name": "stdout",
     "output_type": "stream",
     "text": [
      "Função objetivo: 7 x[1,1] + 9 x[2,1]\n",
      "\n",
      "Valor ótimo: 62.0\n",
      "\n",
      "Solução ótima:\n",
      "x[1,1] = 5.0\n",
      "x[2,1] = 3.0\n"
     ]
    }
   ],
   "source": [
    "# Problema da usina química (Q2-L1)\n",
    "C = [1 1;2 3;0 1]\n",
    "d = [8;19;4]\n",
    "weights = [7 9]\n",
    "i = 2\n",
    "j = 1\n",
    "\n",
    "PLI(1, i, j, weights, 0, 0, C, d, 0, 0)"
   ]
  },
  {
   "cell_type": "markdown",
   "metadata": {
    "jp-MarkdownHeadingCollapsed": true,
    "tags": []
   },
   "source": [
    "## Questão 3\n",
    "![Questão 1](figs/L1E3.png)"
   ]
  },
  {
   "cell_type": "code",
   "execution_count": 26,
   "metadata": {},
   "outputs": [
    {
     "name": "stdout",
     "output_type": "stream",
     "text": [
      "Função objetivo: 38 x[1,1] + 27 x[1,2] + 48 x[1,3] + 37 x[2,1] + 58 x[2,2] + 45 x[2,3]\n",
      "\n",
      "Valor ótimo: 430.0\n",
      "\n",
      "Solução ótima:\n",
      "x[1,1] = 2.0\n",
      "x[1,2] = 4.0\n",
      "x[1,3] = 0.0\n",
      "x[2,1] = 3.0\n",
      "x[2,2] = 0.0\n",
      "x[2,3] = 3.0\n"
     ]
    }
   ],
   "source": [
    "# Problema das usinas de carro (Q3-L1)\n",
    "E = [1 0 0 1 0 0;0 1 0 0 1 0;0 0 1 0 0 1]\n",
    "f = [5;4;3]\n",
    "C = [1 1 1 0 0 0;0 0 0 1 1 1]\n",
    "d = [6;6]\n",
    "weights = [38 27 48 37 58 45]\n",
    "i = 2\n",
    "j = 3\n",
    "\n",
    "PLI(0, i, j, weights, 0, 0, C, d, E, f)"
   ]
  },
  {
   "cell_type": "markdown",
   "metadata": {
    "tags": []
   },
   "source": [
    "## Questão 4\n",
    "![Questão 1](figs/L1E4.png)"
   ]
  },
  {
   "cell_type": "markdown",
   "metadata": {
    "jp-MarkdownHeadingCollapsed": true,
    "tags": []
   },
   "source": [
    "### Versão 1, em função do tempo"
   ]
  },
  {
   "cell_type": "code",
   "execution_count": 27,
   "metadata": {},
   "outputs": [
    {
     "name": "stdout",
     "output_type": "stream",
     "text": [
      "Valor ótimo:   240.0\n",
      "Solução ótima: (4.0, 6.0)\n"
     ]
    }
   ],
   "source": [
    "# Problema do sapateiro (Q4-L1) versão 1\n",
    "model = Model()\n",
    "set_optimizer(model, GLPK.Optimizer)\n",
    "\n",
    "# Define as variáveis\n",
    "@variable(model, x>=0)\n",
    "@variable(model, y>=0)\n",
    "\n",
    "# Define as restrições\n",
    "@constraint(model, x+y<=10)\n",
    "@constraint(model, 12x+5y<=78)\n",
    "\n",
    "# Define a função objetivo\n",
    "@objective(model, Max, 30x+20y)\n",
    "\n",
    "# Roda a otimização\n",
    "optimize!(model)\n",
    "\n",
    "# Exibe os resultados\n",
    "println(\"Valor ótimo:   \", objective_value(model))\n",
    "println(\"Solução ótima: \", (value.(x), value.(y)))"
   ]
  },
  {
   "cell_type": "markdown",
   "metadata": {
    "jp-MarkdownHeadingCollapsed": true,
    "tags": []
   },
   "source": [
    "### Versão 2, em função dos produtos"
   ]
  },
  {
   "cell_type": "code",
   "execution_count": 28,
   "metadata": {
    "tags": []
   },
   "outputs": [
    {
     "name": "stdout",
     "output_type": "stream",
     "text": [
      "Valor ótimo:   240.0\n",
      "Solução ótima: (24.0, 29.999999999999996)\n"
     ]
    }
   ],
   "source": [
    "# Problema do sapateiro (Q4-L1) versão 2\n",
    "model = Model()\n",
    "set_optimizer(model, GLPK.Optimizer)\n",
    "\n",
    "# Define as variáveis\n",
    "@variable(model, x>=0)\n",
    "@variable(model, y>=0)\n",
    "\n",
    "# Define as restrições\n",
    "@constraint(model, x/6+y/5<=10)\n",
    "@constraint(model, 2x+y<=78)\n",
    "\n",
    "# Define a função objetivo\n",
    "@objective(model, Max, 5x+4y)\n",
    "\n",
    "# Roda a otimização\n",
    "optimize!(model)\n",
    "\n",
    "# Exibe os resultados\n",
    "println(\"Valor ótimo:   \", objective_value(model))\n",
    "println(\"Solução ótima: \", (value.(x), value.(y)))"
   ]
  },
  {
   "cell_type": "markdown",
   "metadata": {
    "jp-MarkdownHeadingCollapsed": true,
    "tags": []
   },
   "source": [
    "### Versão 1, em função do tempo (usando a função PLI)"
   ]
  },
  {
   "cell_type": "code",
   "execution_count": 29,
   "metadata": {},
   "outputs": [
    {
     "name": "stdout",
     "output_type": "stream",
     "text": [
      "Função objetivo: 30 x[1,1] + 20 x[2,1]\n",
      "\n",
      "Valor ótimo: 240.0\n",
      "\n",
      "Solução ótima:\n",
      "x[1,1] = 4.0\n",
      "x[2,1] = 6.0\n"
     ]
    }
   ],
   "source": [
    "# Problema do sapateiro (Q4-L1) versão 1\n",
    "C = [1 1;12 5]\n",
    "d = [10;78]\n",
    "weights = [30 20]\n",
    "i = 2\n",
    "j = 1\n",
    "\n",
    "PLI(1, i, j, weights, 0, 0, C, d, 0, 0)"
   ]
  },
  {
   "cell_type": "markdown",
   "metadata": {
    "jp-MarkdownHeadingCollapsed": true,
    "tags": []
   },
   "source": [
    "### Versão 2, em função dos produtos (usando a função PLI)"
   ]
  },
  {
   "cell_type": "code",
   "execution_count": 30,
   "metadata": {},
   "outputs": [
    {
     "name": "stdout",
     "output_type": "stream",
     "text": [
      "Função objetivo: 5 x[1,1] + 4 x[2,1]\n",
      "\n",
      "Valor ótimo: 240.0\n",
      "\n",
      "Solução ótima:\n",
      "x[1,1] = 24.0\n",
      "x[2,1] = 29.999999999999996\n"
     ]
    }
   ],
   "source": [
    "# Problema do sapateiro (Q4-L1) versão 2\n",
    "C = [1/6 1/5;2 1]\n",
    "d = [10;78]\n",
    "weights = [5 4]\n",
    "i = 2\n",
    "j = 1\n",
    "\n",
    "PLI(1, i, j, weights, 0, 0, C, d, 0, 0)"
   ]
  },
  {
   "cell_type": "markdown",
   "metadata": {
    "tags": []
   },
   "source": [
    "## Questão 5\n",
    "![Questão 1](figs/L1E5.png)"
   ]
  },
  {
   "cell_type": "markdown",
   "metadata": {
    "jp-MarkdownHeadingCollapsed": true,
    "tags": []
   },
   "source": [
    "### Versão 1"
   ]
  },
  {
   "cell_type": "code",
   "execution_count": 31,
   "metadata": {},
   "outputs": [
    {
     "name": "stdout",
     "output_type": "stream",
     "text": [
      "Valor ótimo:   12000.0\n",
      "Solução ótima: (0.0, 400.0)\n"
     ]
    }
   ],
   "source": [
    "# Problema do combustível para avião (Q5-L1)\n",
    "model = Model()\n",
    "set_optimizer(model, GLPK.Optimizer)\n",
    "\n",
    "# Define as variáveis\n",
    "@variable(model, x>=0)\n",
    "@variable(model, y>=0)\n",
    "\n",
    "# Define as restrições\n",
    "@constraint(model, 0.25x<=500)\n",
    "@constraint(model, 0.25x+0.5y<=200)\n",
    "@constraint(model, 0.5x+0.5y<=200)\n",
    "\n",
    "# Define a função objetivo\n",
    "@objective(model, Max, 20x+30y)\n",
    "\n",
    "# Roda a otimização\n",
    "optimize!(model)\n",
    "\n",
    "# Exibe os resultados\n",
    "println(\"Valor ótimo:   \", objective_value(model))\n",
    "println(\"Solução ótima: \", (value.(x), value.(y)))"
   ]
  },
  {
   "cell_type": "markdown",
   "metadata": {
    "jp-MarkdownHeadingCollapsed": true,
    "tags": []
   },
   "source": [
    "### Versão 2 (usando a função PLI)"
   ]
  },
  {
   "cell_type": "code",
   "execution_count": 32,
   "metadata": {},
   "outputs": [
    {
     "name": "stdout",
     "output_type": "stream",
     "text": [
      "Função objetivo: 20 x[1,1] + 30 x[2,1]\n",
      "\n",
      "Valor ótimo: 12000.0\n",
      "\n",
      "Solução ótima:\n",
      "x[1,1] = 0.0\n",
      "x[2,1] = 400.0\n"
     ]
    }
   ],
   "source": [
    "# Problema do combustível para avião (Q5-L1)\n",
    "C = [0.25 0;0.25 0.5;0.5 0.5]\n",
    "d = [500;200;200]\n",
    "weights = [20 30]\n",
    "i = 2\n",
    "j = 1\n",
    "\n",
    "PLI(1, i, j, weights, 0, 0, C, d, 0, 0)"
   ]
  },
  {
   "cell_type": "markdown",
   "metadata": {
    "jp-MarkdownHeadingCollapsed": true,
    "tags": []
   },
   "source": [
    "## Questão 6\n",
    "![Questão 1](figs/L1E6.png)"
   ]
  },
  {
   "cell_type": "code",
   "execution_count": 33,
   "metadata": {},
   "outputs": [
    {
     "name": "stdout",
     "output_type": "stream",
     "text": [
      "Lucro máximo: 7166.666666666666\n",
      "Quantidades de petróleo para diesel A, B, C:\n",
      "Diesel 1:\n",
      "  Petróleo 1: 1099.9999999999998\n",
      "  Petróleo 2: 1466.6666666666665\n",
      "  Petróleo 3: 1099.9999999999995\n",
      "  Petróleo 4: 0.0\n",
      "  Diesel total 1: 3666.6666666666656\n",
      "Diesel 2:\n",
      "  Petróleo 1: 1900.0\n",
      "  Petróleo 2: 533.3333333333334\n",
      "  Petróleo 3: 2900.0000000000005\n",
      "  Petróleo 4: 0.0\n",
      "  Diesel total 2: 5333.333333333334\n",
      "Diesel 3:\n",
      "  Petróleo 1: 0.0\n",
      "  Petróleo 2: 0.0\n",
      "  Petróleo 3: 0.0\n",
      "  Petróleo 4: 0.0\n",
      "  Diesel total 3: 0.0\n"
     ]
    }
   ],
   "source": [
    "# Problema da fábrica de petróleo (Q6-L1)\n",
    "\n",
    "# Criar o modelo com o solver GLPK\n",
    "model = Model(GLPK.Optimizer)\n",
    "\n",
    "# Variáveis de decisão\n",
    "@variable(model, x[1:4, 1:3] >= 0)  # Quantidade de cada petróleo em cada diesel\n",
    "\n",
    "d1 = x[1,1] + x[2,1] + x[3,1] + x[4,1]  # Diesel A\n",
    "d2 = x[1,2] + x[2,2] + x[3,2] + x[4,2]  # Diesel B\n",
    "d3 = x[1,3] + x[2,3] + x[3,3] + x[4,3]  # Diesel C\n",
    "d = [d1, d2, d3]\n",
    "\n",
    "# Função Objetivo: Maximizar o lucro total\n",
    "@objective(model, Max, 5.5d[1] + 4.5d[2] + 3.5d[3] - (3*(x[1,1] + x[1,2] + x[1,3]) + 6*(x[2,1] + x[2,2] + x[2,3]) + 4*(x[3,1] + x[3,2] + x[3,3]) + 5*(x[4,1] + x[4,2] + x[4,3])))\n",
    "\n",
    "# Restrições\n",
    "@constraint(model, x[1,1] + x[1,2] + x[1,3] <= 3000)  # Estoque petróleo 1\n",
    "@constraint(model, x[2,1] + x[2,2] + x[2,3] <= 2000)  # Estoque petróleo 2\n",
    "@constraint(model, x[3,1] + x[3,2] + x[3,3] <= 4000)  # Estoque petróleo 3\n",
    "@constraint(model, x[4,1] + x[4,2] + x[4,3] <= 1000)  # Estoque petróleo 4\n",
    "@constraint(model, x[1,1] <= 0.3d[1])                # Proporção em diesel A\n",
    "@constraint(model, x[3,1] <= 0.5d[1])                # Proporção em diesel A\n",
    "@constraint(model, x[2,1] >= 0.4d[1])                # Proporção em diesel A\n",
    "@constraint(model, x[2,2] >= 0.1d[2])                # Proporção em diesel B\n",
    "@constraint(model, x[1,2] <= 0.5d[2])                # Proporção em diesel B\n",
    "@constraint(model, x[1,3] <= 0.7d[3])                # Proporção em diesel C\n",
    "\n",
    "# Resolver o modelo\n",
    "optimize!(model)\n",
    "\n",
    "# Exibir os resultados\n",
    "println(\"Lucro máximo: \", objective_value(model))\n",
    "println(\"Quantidades de petróleo para diesel A, B, C:\")\n",
    "for j in 1:3\n",
    "    println(\"Diesel \", j, \":\")\n",
    "    for i in 1:4\n",
    "        println(\"  Petróleo \", i, \": \", value(x[i,j]))\n",
    "    end\n",
    "    println(\"  Diesel total \", j, \": \", value(d[j]))\n",
    "end"
   ]
  },
  {
   "cell_type": "markdown",
   "metadata": {
    "tags": []
   },
   "source": [
    "# Lista 2"
   ]
  },
  {
   "cell_type": "markdown",
   "metadata": {
    "jp-MarkdownHeadingCollapsed": true,
    "tags": []
   },
   "source": [
    "## Questão 1\n",
    "![Questão 1](figs/1eletricidade.png)"
   ]
  },
  {
   "attachments": {
    "52479826-6139-4b5f-a22f-951abe509771.png": {
     "image/png": "[encoded data removed]"
    }
   },
   "cell_type": "markdown",
   "metadata": {},
   "source": [
    "![image.png](attachment:52479826-6139-4b5f-a22f-951abe509771.png)\n",
    "\n",
    "Primeiro, estimamos os coeficientes a serem usados para conseguir um modelo tão próximo como possível da realidade (coeficientes do gabarito disponível no ECLASS):"
   ]
  },
  {
   "cell_type": "markdown",
   "metadata": {},
   "source": [
    "- $\\bar{u}_{i, t}$: capacidade máxima de produção de energia na usina térmica $j$ na região $i$, por dia\n",
    "\n",
    "Usando dados de: [ANEEL](https://dadosabertos.aneel.gov.br/dataset/empreendimentos-em-operacao). A média de potência instalada em território nacional, considerando todos os tipos de combustível reportados, é de aproximadamente $46239047,31$ kW distribuidos entre $3035$ usinas termoelétricas, com uma média de $365,6$ MW/dia de produção por usina.\n",
    "\n",
    "Fixemos todas as capacidades de produção nesse valor\n",
    "\n",
    "- $\\bar{v}_i$: capacidade máxima de produção de energia hidrelétria na região$i$, por dia\n",
    "\n",
    "Usando dados de: [ANEEL](https://dadosabertos.aneel.gov.br/dataset/empreendimentos-em-operacao). A média de potẽncia instalada em território nacional, considerando todos os tipos de combustível reportados, é de aproximadamente $103197797$ kW distribuidos entre $245$ usinas termoelétricas, com uma média de $10109,2$ MW/dia de produção por usina.\n",
    "\n",
    "- $\\bar{x}_i$ e $\\underline{x}_i$: níveis máximo e mínimo do reservatório i\n",
    "\n",
    "Usando estimativa de: [ELETROBRAS](https://www.furnas.com.br/subsecao/129/usina-de-serra-da-mesa?culture=pt)\n",
    "\n",
    "Os níveis máximos e mínimos de mínimos de um reservatório de usina hidrelétrica são altamente relativos, dependendo das condições geográficas do local usado para instalar a usina. Usando uma estimativa bruta, tomando $\\bar{x}_i$ como nível $1$ e $\\underline{x}_i$ como sendo o nível mínimo, $0,904$. Todas as usinas do problema terão esses valores como parâmetros.\n",
    "\n",
    "- $T$: dias de planejamento do modelo\n",
    "\n",
    "Fixaremos esse valor em 7 para não ficar impossivelmente custoso nas nossas máquinas.\n",
    "\n",
    "- $p_t$: preço da venda de energia no mercado spot.\n",
    "\n",
    "Arbitrariamente, fixemos $p_t = 1,2 \\forall t$, em fração de preço unitário\n",
    "\n",
    "- $D_{t,i}$:\n",
    "\n",
    "Definidos randomicamente abaixo, com média (em valores percentuais) de $360*15/10 = 474.5$ e desvio padrão de $10$, com uma distribuição Gaussiana truncada. \n",
    "\n",
    "- $A_{t,i}$: Afluências na região $i$ no tempo $t$\n",
    "\n",
    "Definidos randomicamente abaixo, com média (em valores percentuais) de $0,01$ e desvio padrão de $0.1$, com uma distribuição Gaussiana truncada. \n",
    "\n",
    "- $c_{i, j}$: custo de produção da usina hidrelétrica $j$ da região $i$:\n",
    "\n",
    "Arbitrariamente, fixemos $c_{i, j} = 0,8 \\forall i, j$, em fração de preço unitário\n",
    "\n",
    "- $\\bar{E}_{i, j}$\n",
    "\n",
    "Arbitrariamente, fixemos $E_{i, j} = 500 \\forall i, j$, em MW/dia\n",
    "\n",
    "\n",
    "No mais, fixemos $i \\in {1, 2, 3, 4}$ e "
   ]
  },
  {
   "cell_type": "code",
   "execution_count": 3,
   "metadata": {
    "tags": []
   },
   "outputs": [
    {
     "name": "stdout",
     "output_type": "stream",
     "text": [
      "[0.12979596698125404 0.047856840384075325 0.02552496643177725 0.08202241813280321 0.07167444193105983 0.010428650910449578 0.060030664117868886 0.034933490803382504 0.1776807159148025 0.031099973478096406; 0.15600764147393972 0.10307323496630826 0.11557540679528694 0.18714779164216191 0.08593050719017935 0.11262706957111954 0.08137770813874244 0.003929570423842974 0.06589706878154404 0.18267066415743377; 0.006259896925617505 0.0626993988868204 0.14825987220226253 0.08478773532775159 0.032081326245226034 0.03275923780923381 0.13541502209690873 0.10377516292520221 0.06599848092309513 0.07548603060868243; 0.10548452855545422 0.0006889689185496182 0.1941894255706361 0.07910326846353717 0.07006983743543721 0.23573510919898297 0.13539326397607418 0.17673430374623533 0.06014305826753229 0.07648574277326223]"
     ]
    },
    {
     "data": {
      "image/png": "[encoded data removed]"
     },
     "execution_count": 3,
     "metadata": {},
     "output_type": "execute_result"
    }
   ],
   "source": [
    "Random.seed!(42)\n",
    "\n",
    "# Create truncated normal distributions\n",
    "D_dist = truncated(Normal(474.5, 10), 0, 20000)\n",
    "A_dist = truncated(Normal(0.01, 0.1), 0, 2)\n",
    "\n",
    "# Generate samples\n",
    "D = rand(D_dist, 4, 10)\n",
    "A = rand(A_dist, 4, 10)\n",
    "\n",
    "# Taking a look at the data\n",
    "print(A)\n",
    "heatmap(A, xlabel=\"Região\", ylabel=\"dia\", title=\"Afluências brutas\")"
   ]
  },
  {
   "cell_type": "code",
   "execution_count": 6,
   "metadata": {
    "tags": []
   },
   "outputs": [
    {
     "name": "stdout",
     "output_type": "stream",
     "text": [
      "Produção ótima das usinas térmicas (u_t): [365.6 116.60776004906162 0.0 0.0 0.0 0.0 0.0 0.0 0.0 0.0; 365.6 99.89940639898207 0.0 0.0 0.0 0.0 0.0 0.0 0.0 0.0; 365.6 100.10980528097812 0.0 0.0 0.0 0.0 0.0 0.0 0.0 0.0; 365.6 101.41596582709558 0.0 0.0 0.0 0.0 0.0 0.0 0.0 0.0;;; 365.6 101.83019117203908 0.0 0.0 0.0 0.0 0.0 0.0 0.0 0.0; 365.6 108.07110808457499 0.0 0.0 0.0 0.0 0.0 0.0 0.0 0.0; 365.6 99.70806673771386 0.0 0.0 0.0 0.0 0.0 0.0 0.0 0.0; 365.6 115.21551934224895 0.0 0.0 0.0 0.0 0.0 0.0 0.0 0.0;;; 365.6 123.26130779068232 0.0 0.0 0.0 0.0 0.0 0.0 0.0 0.0; 365.6 105.24272615950022 0.0 0.0 0.0 0.0 0.0 0.0 0.0 0.0; 365.6 116.71300932057802 0.0 0.0 0.0 0.0 0.0 0.0 0.0 0.0; 365.6 96.95209924225352 0.0 0.0 0.0 0.0 0.0 0.0 0.0 0.0;;; 365.6 102.88402718879951 0.0 0.0 0.0 0.0 0.0 0.0 0.0 0.0; 365.6 113.00891585807736 0.0 0.0 0.0 0.0 0.0 0.0 0.0 0.0; 365.6 118.33849689588496 0.0 0.0 0.0 0.0 0.0 0.0 0.0 0.0; 365.6 110.11228884813991 0.0 0.0 0.0 0.0 0.0 0.0 0.0 0.0;;; 365.6 105.88058662245756 0.0 0.0 0.0 0.0 0.0 0.0 0.0 0.0; 365.6 105.07138514062527 0.0 0.0 0.0 0.0 0.0 0.0 0.0 0.0; 365.6 120.5630360762251 0.0 0.0 0.0 0.0 0.0 0.0 0.0 0.0; 365.6 111.39841512365786 0.0 0.0 0.0 0.0 0.0 0.0 0.0 0.0;;; 365.6 110.89882223547903 0.0 0.0 0.0 0.0 0.0 0.0 0.0 0.0; 365.6 120.12636842145508 0.0 0.0 0.0 0.0 0.0 0.0 0.0 0.0; 365.6 111.76512470656628 0.0 0.0 0.0 0.0 0.0 0.0 0.0 0.0; 365.6 93.35587426237359 0.0 0.0 0.0 0.0 0.0 0.0 0.0 0.0;;; 365.6 111.02398244298485 0.0 0.0 0.0 0.0 0.0 0.0 0.0 0.0; 365.6 102.72746332796464 0.0 0.0 0.0 0.0 0.0 0.0 0.0 0.0; 365.6 115.25405859062107 0.0 0.0 0.0 0.0 0.0 0.0 0.0 0.0; 365.6 122.12330137186909 0.0 0.0 0.0 0.0 0.0 0.0 0.0 0.0]\n",
      "\n",
      "Produção ótima das usinas hidrelétricas (v_t): [0.14983677358500314 0.038285472307260204 0.020419973145421766 0.06561793450624265 0.057339553544847766 0.008342920728359626 0.04802453129429507; 0.17080611317915162 0.08245858797304667 0.09246032543622962 0.14971823331372947 0.06874440575214358 0.09010165565689565 0.06510216651099393; 0.05100791754049394 0.05015951910945626 0.11860789776181013 0.06783018826220122 0.025665060996180822 0.02620739024738694 0.10833201767752709; 0.13038762284436334 0.0005511751348397098 0.1553515404565089 0.06328261477082975 0.05605586994834977 0.18858808735918642 0.10831461118085939]\n",
      "\n",
      "Compras ótimas no mercado spot (s_t): [0.0 0.0 0.0 0.0 0.0 0.0 0.0; 0.0 0.0 0.0 0.0 0.0 0.0 0.0; 0.0 0.0 0.0 0.0 0.0 0.0 0.0; 0.0 0.0 0.0 0.0 0.0 0.0 0.0]\n",
      "\n",
      "Valores ótimos do reservatório (x_t): [0.95 0.904 0.9040000000000001 0.9040000000000001 0.904 0.9040000000000001 0.9040000000000001 0.9040000000000001; 0.95 0.9040000000000001 0.9040000000000001 0.9040000000000001 0.9040000000000002 0.9040000000000001 0.9040000000000001 0.9040000000000001; 0.95 0.904 0.9040000000000001 0.904 0.9040000000000001 0.9040000000000001 0.9040000000000002 0.9040000000000001; 0.95 0.904 0.904 0.904 0.904 0.904 0.904 0.904]\n",
      "\n",
      "Trocas de energia otimais entre regiões (E_t): [0.0 0.0 0.0 0.0; 0.0 0.0 0.0 0.0; 0.0 0.0 0.0 0.0; 0.0 0.0 0.0 0.0;;; 0.0 0.0 0.0 0.0; 0.0 0.0 0.0 0.0; 0.0 0.0 0.0 0.0; 0.0 0.0 0.0 0.0;;; 0.0 0.0 0.0 0.0; 0.0 0.0 0.0 0.0; 0.0 0.0 0.0 0.0; 0.0 0.0 0.0 0.0;;; 0.0 0.0 0.0 0.0; 0.0 0.0 0.0 0.0; 0.0 0.0 0.0 0.0; 0.0 0.0 0.0 0.0;;; 0.0 0.0 0.0 0.0; 0.0 0.0 0.0 0.0; 0.0 0.0 0.0 0.0; 0.0 0.0 0.0 0.0;;; 0.0 0.0 0.0 0.0; 0.0 0.0 0.0 0.0; 0.0 0.0 0.0 0.0; 0.0 0.0 0.0 0.0;;; 0.0 0.0 0.0 0.0; 0.0 0.0 0.0 0.0; 0.0 0.0 0.0 0.0; 0.0 0.0 0.0 0.0]\n",
      "\n",
      "Custo total: 13296.359112518894\n",
      "\n"
     ]
    }
   ],
   "source": [
    "using JuMP, GLPK\n",
    "\n",
    "# Exemplo de parâmetros\n",
    "T = 7  # Número de dias\n",
    "I = 4  # Número de regiões\n",
    "Ti = 10  # Número de usinas térmicas em cada região\n",
    "\n",
    "# Capacidade máxima de produção de energia para usinas térmicas\n",
    "u_max = 365.6  # Capacidade máxima de uma única usina térmica\n",
    "u = [u_max for i in 1:I, j in 1:Ti]\n",
    "\n",
    "# Produção hidroelétrica máxima para cada região\n",
    "v_max = 10109.2  # Capacidade máxima de uma única usina hidroelétrica\n",
    "v = [v_max for i in 1:I]\n",
    "\n",
    "# Níveis máximos e mínimos dos reservatórios\n",
    "x_max = 1.0\n",
    "x_min = 0.904\n",
    "\n",
    "# Níveis iniciais dos reservatórios\n",
    "x_start = 0.95\n",
    "\n",
    "# Custo unitário de produção para usinas térmicas\n",
    "c = 1.0  # Custo unitário de uma única usina térmica\n",
    "c = [c for i in 1:I, j in 1:Ti]\n",
    "\n",
    "# Preço unitário de mercado para cada dia\n",
    "p = 1.2\n",
    "p = [p for t in 1:T]\n",
    "\n",
    "# Capacidade de troca de energia entre regiões\n",
    "E_max_val = 500.0\n",
    "E_max = [E_max_val for i in 1:I, j in 1:I]\n",
    "for i in 1:I\n",
    "    E_max[i, i] = 0.0  # Sem troca de energia dentro da mesma região\n",
    "end\n",
    "\n",
    "\n",
    "# Criação do modelo\n",
    "model = Model(GLPK.Optimizer)\n",
    "\n",
    "# Definição das variáveis\n",
    "@variable(model, 0 <= u_t[1:I, 1:Ti, 1:T] <= u_max)\n",
    "@variable(model, 0 <= v_t[1:I, 1:T] <= v_max)\n",
    "@variable(model, 0 <= s_t[1:I, 1:T])\n",
    "@variable(model, x_t[1:I, 1:T+1])\n",
    "@variable(model, 0 <= E_t[1:I, 1:I, 1:T] <= E_max_val)\n",
    "\n",
    "\n",
    "# Função objetivo\n",
    "@objective(model, Min, \n",
    "    sum(c[i, j] * u_t[i, j, t] for i in 1:I, j in 1:Ti, t in 1:T) +\n",
    "    sum(s_t[i, t] * p[t] for i in 1:I, t in 1:T)\n",
    ")\n",
    "\n",
    "\n",
    "# Dinâmica dos níveis dos reservatórios\n",
    "for i in 1:I, t in 1:T\n",
    "    @constraint(model, x_t[i, t+1] == x_t[i, t] + 0.8 * A[i, t] - v_t[i, t])\n",
    "end\n",
    "\n",
    "\n",
    "# Níveis iniciais dos reservatórios\n",
    "for i in 1:I\n",
    "    @constraint(model, x_t[i, 1] == x_start)\n",
    "end\n",
    "\n",
    "# Balanceamento de oferta e demanda\n",
    "for i in 1:I, t in 1:T\n",
    "    @constraint(model, \n",
    "        0.2 * A[i, t] + sum(u_t[i, j, t] for j in 1:Ti) + v_t[i, t] + s_t[i, t] +\n",
    "        sum(E_t[i, j, t] for j in 1:I if j != i) - sum(E_t[j, i, t] for j in 1:I if j != i) >= D[i, t]\n",
    "    )\n",
    "end\n",
    "\n",
    "# Limites dos reservatórios\n",
    "for i in 1:I, t in 1:T+1\n",
    "    @constraint(model, x_min <= x_t[i, t] <= x_max)\n",
    "end\n",
    "\n",
    "# Resolver o problema\n",
    "optimize!(model)\n",
    "\n",
    "# Extrair e imprimir os resultados\n",
    "optimal_u = value.(u_t)\n",
    "optimal_v = value.(v_t)\n",
    "optimal_s = value.(s_t)\n",
    "optimal_x = value.(x_t)\n",
    "optimal_E = value.(E_t)\n",
    "total_cost = objective_value(model)\n",
    "\n",
    "println(\"Produção ótima das usinas térmicas (u_t): \", optimal_u, \"\\n\")\n",
    "println(\"Produção ótima das usinas hidrelétricas (v_t): \", optimal_v, \"\\n\")\n",
    "println(\"Compras ótimas no mercado spot (s_t): \", optimal_s, \"\\n\")\n",
    "println(\"Valores ótimos do reservatório (x_t): \", optimal_x, \"\\n\")\n",
    "println(\"Trocas de energia otimais entre regiões (E_t): \", optimal_E, \"\\n\")\n",
    "println(\"Custo total: \", total_cost, \"\\n\")"
   ]
  },
  {
   "cell_type": "markdown",
   "metadata": {
    "jp-MarkdownHeadingCollapsed": true,
    "tags": []
   },
   "source": [
    "## Questão 2\n",
    "![Questão 1](figs/2carteiras.png)"
   ]
  },
  {
   "cell_type": "markdown",
   "metadata": {},
   "source": [
    "Tomemos valores arbitrários para o problema, dado que não há paralelo íntimo com a realidade.\n",
    "\n",
    "- Total de capital disponível para investimento: M = R$ 1000,00\n",
    "\n",
    "- Vetor de retornos dos investimentos, conhecidos apriori: $r = (1, 2, 3, 4, 5, 6, 7, 8, 9, 10)$\n",
    "\n",
    "Com investimentos positivos ou nulos em cada categoria. Em código, ficamos com:"
   ]
  },
  {
   "cell_type": "code",
   "execution_count": 37,
   "metadata": {
    "tags": []
   },
   "outputs": [
    {
     "name": "stdout",
     "output_type": "stream",
     "text": [
      "Valor ótimo:   10000.0\n",
      "Solução ótima: [0.0, 0.0, 0.0, 0.0, 0.0, 0.0, 0.0, 0.0, 0.0, 1000.0]\n"
     ]
    }
   ],
   "source": [
    "using JuMP, GLPK\n",
    "\n",
    "# Gestão de carteiras. (Q2-L2)\n",
    "\n",
    "model = Model(GLPK.Optimizer)\n",
    "\n",
    "# Dados do problema\n",
    "M = 1000 # Capital disponível\n",
    "r = [1, 2, 3, 4, 5, 6, 7, 8, 9, 10] # retornos dos investimentos\n",
    "\n",
    "# Variáveis de decisão\n",
    "@variable(model, x[1:length(r)] >= 0)\n",
    "\n",
    "# Define as restrições\n",
    "@constraint(model, sum(x) <= M)\n",
    "\n",
    "# Define a função objetivo\n",
    "@objective(model, Max, sum(r[i] * x[i] for i in 1:length(r)))\n",
    "\n",
    "# Roda a otimização\n",
    "optimize!(model)\n",
    "\n",
    "# Exibe os resultados\n",
    "println(\"Valor ótimo:   \", objective_value(model))\n",
    "println(\"Solução ótima: \", value.(x))\n"
   ]
  },
  {
   "cell_type": "markdown",
   "metadata": {
    "jp-MarkdownHeadingCollapsed": true,
    "tags": []
   },
   "source": [
    "## Questão 3\n",
    "![3planificacao.png](figs/3planificacao.png)"
   ]
  },
  {
   "cell_type": "code",
   "execution_count": 38,
   "metadata": {},
   "outputs": [
    {
     "name": "stdout",
     "output_type": "stream",
     "text": [
      "Custo mínimo: 896450.0\n",
      "Máquina 1:\n",
      "  Horas extras adquiridas = 0.0\n",
      "  Horas produzindo produto 1: 500.0\n",
      "  Horas produzindo produto 2: 0.0\n",
      "  Horas produzindo produto 3: 0.0\n",
      "Máquina 2:\n",
      "  Horas extras adquiridas = 0.0\n",
      "  Horas produzindo produto 1: 0.0\n",
      "  Horas produzindo produto 2: 500.0\n",
      "  Horas produzindo produto 3: 0.0\n",
      "Máquina 3:\n",
      "  Horas extras adquiridas = 0.0\n",
      "  Horas produzindo produto 1: 500.0\n",
      "  Horas produzindo produto 2: 0.0\n",
      "  Horas produzindo produto 3: 0.0\n",
      "Máquina 4:\n",
      "  Horas extras adquiridas = 2000.0\n",
      "  Horas produzindo produto 1: 2500.0\n",
      "  Horas produzindo produto 2: 0.0\n",
      "  Horas produzindo produto 3: 0.0\n"
     ]
    }
   ],
   "source": [
    "# Planificação da expansão da produção (Q3-L2)\n",
    "\n",
    "model = Model(GLPK.Optimizer)\n",
    "\n",
    "# Dados do problema\n",
    "m = 3  # Número de produtos\n",
    "n = 4  # Número de máquinas\n",
    "T = 100  # Máximo de horas de revisão\n",
    "p = [400, 400, 400]  # Custo por unidade não vendida\n",
    "c = [2.5, 3.75, 5.0, 3.0]  # Custo por hora adicional\n",
    "h = [500, 500, 500, 500]  # Horas regulares de funcionamento\n",
    "u = [2000, 2000, 3000, 3000]  # Cota superior de horas\n",
    "t = [0.08, 0.04, 0.03, 0.01]  # Taxa de revisão por hora\n",
    "\n",
    "a = [0.6 0.6 0.9 0.8; \n",
    "     0.1 0.9 0.6 0.8; \n",
    "     0.05 0.2 0.5 0.8]  # Matriz de eficiência de produção\n",
    "\n",
    "g = [2.6 3.4 3.4 2.5;\n",
    "     1.5 2.4 2.0 3.6;\n",
    "     4.0 3.8 3.5 3.2]  # Matriz de custo por hora\n",
    "\n",
    "d = [1800, 600, 3000]  # Demanda dos produtos\n",
    "\n",
    "# Variáveis de decisão\n",
    "@variable(model, h_ij[1:m, 1:n] >= 0)  # Horas de produção de produto i em máquina j\n",
    "@variable(model, e[1:n] >= 0)          # Horas extras adquiridas para máquina j\n",
    "\n",
    "# Expressões calculadas\n",
    "@expression(model, x[i=1:m], sum(a[i,j] * h_ij[i,j] for j in 1:n))  # Produção do produto i\n",
    "@expression(model, s[i=1:m], d[i]-x[i])  # Demanda não atendida do produto i\n",
    "\n",
    "\n",
    "# Função Objetivo\n",
    "@objective(model, Min, sum(c[j] * e[j] for j in 1:n) + \n",
    "                       sum(g[i,j] * h_ij[i,j] for i in 1:m, j in 1:n) + \n",
    "                       sum(p[i] * s[i] for i in 1:m))\n",
    "\n",
    "\n",
    "@constraint(model, sum(t[j] * (h[j] + e[j]) for j in 1:n) <= T)  # Limite de tempo de revisão\n",
    "\n",
    "# Demais restrições\n",
    "for j in 1:n\n",
    "    @constraint(model, h[j] + e[j] <= u[j])  # Horas totais disponíveis por máquina\n",
    "    @constraint(model, sum(h_ij[i,j] for i in 1:m) == h[j] + e[j])  # Horas de produção por máquina\n",
    "end\n",
    "\n",
    "# Resolver o modelo\n",
    "optimize!(model)\n",
    "\n",
    "# Exibir os resultados\n",
    "println(\"Custo mínimo: \", objective_value(model))\n",
    "for j in 1:n\n",
    "    println(\"Máquina \", j, \":\")\n",
    "    println(\"  Horas extras adquiridas = \", value(e[j]))\n",
    "    for i in 1:m\n",
    "        println(\"  Horas produzindo produto \", i, \": \", value(h_ij[i,j]))\n",
    "    end\n",
    "end\n"
   ]
  },
  {
   "cell_type": "markdown",
   "metadata": {
    "tags": []
   },
   "source": [
    "## Questão 4\n",
    "![4planificacao.png](figs/4cancelamento.png)"
   ]
  },
  {
   "cell_type": "markdown",
   "metadata": {},
   "source": [
    "Infelizmente, essa questão ficou incompleta."
   ]
  },
  {
   "cell_type": "code",
   "execution_count": 20,
   "metadata": {
    "tags": []
   },
   "outputs": [
    {
     "ename": "LoadError",
     "evalue": "UndefVarError: Qt not defined",
     "output_type": "error",
     "traceback": [
      "UndefVarError: Qt not defined",
      "",
      "Stacktrace:",
      " [1] macro expansion",
      "   @ ~/.julia/packages/MutableArithmetics/iovKe/src/rewrite.jl:325 [inlined]",
      " [2] macro expansion",
      "   @ ~/.julia/packages/JuMP/Gwn88/src/macros.jl:257 [inlined]",
      " [3] macro expansion",
      "   @ ~/.julia/packages/JuMP/Gwn88/src/macros/@constraint.jl:131 [inlined]",
      " [4] macro expansion",
      "   @ ~/.julia/packages/JuMP/Gwn88/src/macros.jl:393 [inlined]",
      " [5] top-level scope",
      "   @ ./In[20]:43"
     ]
    }
   ],
   "source": [
    "# Parâmetros\n",
    "T = 12  # Horizonte de planejamento em meses\n",
    "N = 5   # Número de contrados\n",
    "ct = [1.0 for t in 1:T]  # Custo do armazenamento\n",
    "pt = [2.0 for t in 1:T]  # Custo da demanda nao satisfeita\n",
    "St = [3.0 for t in 1:T]  # Preço no mercado spot\n",
    "Dt = [100.0 for t in 1:T]  # Demanda\n",
    "Qn = [50.0 for n in 1:N]  # Carregamento do contrato n\n",
    "tn = [2, 4, 6, 8, 10]  # Momento de chegada dos navios de cada contrato\n",
    "fn = [0.5 for t in 1:T, n in 1:N]  # Multa de cancelamento \n",
    "F = [0.5 for t in 1:T, n in 1:N]  # Custo de armazém em navio\n",
    "st_min = 0.0  # Armazenamento mínimo\n",
    "st_max = 200.0  # Armazenamento máximo\n",
    "sP_min = 0.0  # Armazenamento mínimo de dutos\n",
    "sP_max = 150.0  # Armazenamento máximo de dutos\n",
    "\n",
    "# Modelo\n",
    "model = Model(GLPK.Optimizer)\n",
    "\n",
    "# Variáveis\n",
    "@variable(model, 0 <= unt[t=1:T])  # Gás do navio n pra armazém\n",
    "@variable(model, 0 <= u0tP[t=1:T])  # Gás do contrato pra duto\n",
    "@variable(model, 0 <= u1tS[t=1:T])  # Gás do contrato pra armazém\n",
    "@variable(model, 0 <= u0tn[t=1:T])  # Gás do navio n pra duto\n",
    "@variable(model, 0 <= utP[t=1:T])  # Gas de duto para cliente\n",
    "@variable(model, 0 <= utNS[t=1:T])  # Demandas não satisfeitas\n",
    "@variable(model, st_min <= st[t=1:T] <= st_max)  # Armazém\n",
    "@variable(model, sP_max <= sP[t=1:T] <= sP_max)  # Armazém em duto\n",
    "@variable(model, 0 <= uNS[t=1:T])  # Demanda não satisfeita\n",
    "@variable(model, y[t=1:T, n=1:N], Bin)  # Decisão de cancelamento\n",
    "@variable(model, 0 <= u0[t=1:T, n=1:N] <= Dt[t])  # Gás de navio para duto\n",
    "@variable(model, 0 <= u[t=1:T, n=1:N] <= Dt[t])  # Gás de navio para armazém\n",
    "@variable(model, 0 <= stn[t=1:T, n=1:N] <= Qn[n])  # Estoque em navio\n",
    "@variable(model, 0 <= C[t=1:T, n=1:N]) # Custo de cancelamento\n",
    "@variable(model, F[t=1:T, n=1:N]) # cCusto de armazenamento em navio\n",
    "\n",
    "# Objetivo\n",
    "@objective(model, Min, sum(ct[t]*(st[t] + sP[t]) + pt[t]*utNS[t] - 1.3*St[t]*utP[t] +\n",
    "                           sum(C[t, n] + F[t, n] for n in 1:N) for t in 1:T))\n",
    "\n",
    "\n",
    "for t in 1:T, n in 1:N\n",
    "    @constraint(model, Qt[t] == u0tP[t] + u1tS[t])\n",
    "end\n",
    "    \n",
    "    \n",
    "for t in 1:T, n in 1:N\n",
    "    @constraint(model, Dt[t] == utP[t] + utNS[t])\n",
    "end\n",
    "\n",
    "\n",
    "# Restrições de armazém\n",
    "for t in 1:T, n in 1:N\n",
    "    if t > 1\n",
    "        @constraint(model, st[t] == st[t-1] + sum(u[t, n]) + u1S[t] - u[t, n])\n",
    "        @constraint(model, sP[t] == sP[t-1] + sum(u0tn[t, n]) + u0P[t] - u0tP[t]) # essa está incompleta porque o gabarito usa notação inconsistente\n",
    "    else\n",
    "        @constraint(model, st[t] == sum(u[t, n]) + u1S[t] - u[t, n])\n",
    "        @constraint(model, sP[t] == sum(u0[t, n]) + u0P[t] - u0P[t])\n",
    "    end\n",
    "end\n",
    "\n",
    "\n",
    "# Dependência entre valores de estoque em navio\n",
    "for t in 1:T, n in 1:N\n",
    "    @constraint(model, stn[t, n] <= Qn[n] * (1 - y[t, n]))\n",
    "end\n",
    "\n",
    "# Estoque no navio\n",
    "for t in 1:T, n in 1:N\n",
    "    if t >= tn[n]\n",
    "        @constraint(model, stn[t, n] == stn[t-1, n] - u[t, n] - u0[t, n])\n",
    "    else\n",
    "        @constraint(model, stn[t, n] == Qn[n] * (1 - y[t, n]))\n",
    "    end\n",
    "end\n",
    "\n",
    "\n",
    "# Preço de cancelamento\n",
    "for n in 1:N, t in tn[n]:T\n",
    "    if t == tn[n]\n",
    "        @constraint(model, F[t, n] == (1 - y[t-1, n])*St[t]*Qn[n])\n",
    "    else\n",
    "        @constraint(model, F[t, n] == ct[t]*stn[t, n])\n",
    "    end\n",
    "end\n",
    "\n",
    "# Custo de estoque em navio\n",
    "for n in 1:N, t in 1:(tn[n]) \n",
    "    if t ==1\n",
    "        @constraint(model, C[t, n] == y[t, n]*Qn[n]*fn[t, n])\n",
    "    else\n",
    "        @constraint(model, C[t, n] == (y[t, n] - y[t-1, n])*Qn[n]*fn[t, n])\n",
    "    end\n",
    "end\n",
    "\n",
    "\n",
    "# Fazendo a decisão de cancelamento de contrado ser permanete\n",
    "for n in 1:N, t in 2:(tn[n]-1)\n",
    "    @constraint(model, y[t, n] <= y[t-1, n])\n",
    "end\n",
    "\n",
    "# Resolvendo modelo\n",
    "optimize!(model)\n",
    "\n",
    "println(\"Valor ótimo de custo de operação: \", objective_value(model), \"\\n\")\n",
    "println(\"Quantidade ótima de gás de navio para duto (u0P): \", value.(u0P), \"\\n\")\n",
    "println(\"Quantidade ótima de gás para armazém (u1S): \", value.(u1S), \"\\n\")\n",
    "println(\"Valores ótimos de armazém (st): \", value.(st), \"\\n\")\n",
    "println(\"Valores ótimos de armazém em duto(sP): \", value.(sP), \"\\n\")\n",
    "println(\"Quantidade ótima de demandas não satisfeitas (uNS): \", value.(uNS), \"\\n\")\n",
    "println(\"Momentos ótimos de decisão de cancelamento (y): \", value.(y), \"\\n\")\n",
    "println(\"Quantidade ótima de gás de navio para duto (u0): \", value.(u0), \"\\n\")\n",
    "println(\"Quantidade ótima de gás de navio para armazém (u): \", value.(u), \"\\n\")\n",
    "println(\"Quantidade ótima de estoques em navio (stn): \", value.(stn), \"\\n\")\n"
   ]
  },
  {
   "cell_type": "code",
   "execution_count": null,
   "metadata": {},
   "outputs": [],
   "source": [
    "verificar se solução nao deu negativa de novo!!"
   ]
  },
  {
   "cell_type": "markdown",
   "metadata": {
    "tags": []
   },
   "source": [
    "## Questão 5\n",
    "![3plani.png](figs/5mochila.png)"
   ]
  },
  {
   "cell_type": "code",
   "execution_count": 39,
   "metadata": {},
   "outputs": [
    {
     "name": "stdout",
     "output_type": "stream",
     "text": [
      "Valor máximo da utilidade: 80.0\n",
      "Itens a serem levados na mochila:\n",
      "Item 1: Utilidade = 10, Peso = 2, Volume = 1\n",
      "Item 4: Utilidade = 40, Peso = 7, Volume = 6\n",
      "Item 5: Utilidade = 30, Peso = 1, Volume = 2\n"
     ]
    }
   ],
   "source": [
    "# Problema da mochila Q5-L2\n",
    "\n",
    "# Criar o modelo\n",
    "model = Model(GLPK.Optimizer)\n",
    "\n",
    "# Dados\n",
    "utilidades = [10, 20, 15, 40, 30]\n",
    "pesos = [2, 3, 5, 7, 1]\n",
    "volumes = [1, 4, 3, 6, 2]\n",
    "P = 15  # Capacidade máxima de peso\n",
    "V = 10  # Capacidade máxima de volume\n",
    "\n",
    "# Número de itens\n",
    "n = length(utilidades)\n",
    "\n",
    "# Variáveis de decisão\n",
    "@variable(model, x[1:n], Bin)  # x[i] é 0 ou 1 (não pegar ou pegar o item i)\n",
    "\n",
    "# Função objetivo\n",
    "@objective(model, Max, sum(x[i] * utilidades[i] for i in 1:n))\n",
    "\n",
    "# Restrições\n",
    "@constraint(model, sum(x[i] * pesos[i] for i in 1:n) <= P)  # Restrição de peso\n",
    "@constraint(model, sum(x[i] * volumes[i] for i in 1:n) <= V)  # Restrição de volume\n",
    "\n",
    "# Resolver o modelo\n",
    "optimize!(model)\n",
    "\n",
    "# Exibir os resultados\n",
    "println(\"Valor máximo da utilidade: \", objective_value(model))\n",
    "println(\"Itens a serem levados na mochila:\")\n",
    "for i in 1:n\n",
    "    if value(x[i]) > 0.9  # Verifica se o item i deve ser levado\n",
    "        println(\"Item $i: Utilidade = $(utilidades[i]), Peso = $(pesos[i]), Volume = $(volumes[i])\")\n",
    "    end\n",
    "end\n"
   ]
  },
  {
   "cell_type": "markdown",
   "metadata": {
    "jp-MarkdownHeadingCollapsed": true,
    "tags": []
   },
   "source": [
    "## Questão 6\n",
    "![3planificacao.png](figs/6unit.png)"
   ]
  },
  {
   "cell_type": "code",
   "execution_count": 40,
   "metadata": {},
   "outputs": [
    {
     "name": "stdout",
     "output_type": "stream",
     "text": [
      "Custo total mínimo: 8330.0\n",
      "Mês 1, Usina 1: Estado = Desligada\n",
      "Mês 1, Usina 2: Estado = Desligada\n",
      "Mês 1, Usina 3: Estado = Desligada\n",
      "Mês 1, Usina 4: Estado = Desligada\n",
      "Mês 1, Usina 5: Estado = Desligada\n",
      "Mês 1, Usina 6: Estado = Desligada\n",
      "Mês 1, Usina 7: Estado = Desligada\n",
      "Mês 1, Usina 8: Produção = 100.0, Estado = Ligada\n",
      "Mês 1, Usina 9: Estado = Desligada\n",
      "Mês 1, Usina 10: Estado = Desligada\n",
      "Mês 2, Usina 1: Estado = Desligada\n",
      "Mês 2, Usina 2: Estado = Desligada\n",
      "Mês 2, Usina 3: Estado = Desligada\n",
      "Mês 2, Usina 4: Estado = Desligada\n",
      "Mês 2, Usina 5: Estado = Desligada\n",
      "Mês 2, Usina 6: Estado = Desligada\n",
      "Mês 2, Usina 7: Estado = Desligada\n",
      "Mês 2, Usina 8: Produção = 120.0, Estado = Ligada\n",
      "Mês 2, Usina 9: Estado = Desligada\n",
      "Mês 2, Usina 10: Estado = Desligada\n",
      "Mês 3, Usina 1: Estado = Desligada\n",
      "Mês 3, Usina 2: Estado = Desligada\n",
      "Mês 3, Usina 3: Estado = Desligada\n",
      "Mês 3, Usina 4: Estado = Desligada\n",
      "Mês 3, Usina 5: Estado = Desligada\n",
      "Mês 3, Usina 6: Estado = Desligada\n",
      "Mês 3, Usina 7: Estado = Desligada\n",
      "Mês 3, Usina 8: Produção = 130.0, Estado = Ligada\n",
      "Mês 3, Usina 9: Estado = Desligada\n",
      "Mês 3, Usina 10: Estado = Desligada\n",
      "Mês 4, Usina 1: Estado = Desligada\n",
      "Mês 4, Usina 2: Estado = Desligada\n",
      "Mês 4, Usina 3: Estado = Desligada\n",
      "Mês 4, Usina 4: Estado = Desligada\n",
      "Mês 4, Usina 5: Estado = Desligada\n",
      "Mês 4, Usina 6: Estado = Desligada\n",
      "Mês 4, Usina 7: Estado = Desligada\n",
      "Mês 4, Usina 8: Produção = 140.0, Estado = Ligada\n",
      "Mês 4, Usina 9: Estado = Desligada\n",
      "Mês 4, Usina 10: Estado = Desligada\n",
      "Mês 5, Usina 1: Estado = Desligada\n",
      "Mês 5, Usina 2: Estado = Desligada\n",
      "Mês 5, Usina 3: Estado = Desligada\n",
      "Mês 5, Usina 4: Estado = Desligada\n",
      "Mês 5, Usina 5: Estado = Desligada\n",
      "Mês 5, Usina 6: Estado = Desligada\n",
      "Mês 5, Usina 7: Estado = Desligada\n",
      "Mês 5, Usina 8: Produção = 150.0, Estado = Ligada\n",
      "Mês 5, Usina 9: Estado = Desligada\n",
      "Mês 5, Usina 10: Estado = Desligada\n",
      "Mês 6, Usina 1: Estado = Desligada\n",
      "Mês 6, Usina 2: Estado = Desligada\n",
      "Mês 6, Usina 3: Estado = Desligada\n",
      "Mês 6, Usina 4: Estado = Desligada\n",
      "Mês 6, Usina 5: Estado = Desligada\n",
      "Mês 6, Usina 6: Estado = Desligada\n",
      "Mês 6, Usina 7: Estado = Desligada\n",
      "Mês 6, Usina 8: Produção = 160.0, Estado = Ligada\n",
      "Mês 6, Usina 9: Estado = Desligada\n",
      "Mês 6, Usina 10: Estado = Desligada\n",
      "Mês 7, Usina 1: Produção = 10.0, Estado = Ligada\n",
      "Mês 7, Usina 2: Estado = Desligada\n",
      "Mês 7, Usina 3: Estado = Desligada\n",
      "Mês 7, Usina 4: Estado = Desligada\n",
      "Mês 7, Usina 5: Estado = Desligada\n",
      "Mês 7, Usina 6: Estado = Desligada\n",
      "Mês 7, Usina 7: Estado = Desligada\n",
      "Mês 7, Usina 8: Produção = 160.0, Estado = Ligada\n",
      "Mês 7, Usina 9: Estado = Desligada\n",
      "Mês 7, Usina 10: Estado = Desligada\n",
      "Mês 8, Usina 1: Produção = 20.0, Estado = Ligada\n",
      "Mês 8, Usina 2: Estado = Desligada\n",
      "Mês 8, Usina 3: Estado = Desligada\n",
      "Mês 8, Usina 4: Estado = Desligada\n",
      "Mês 8, Usina 5: Estado = Desligada\n",
      "Mês 8, Usina 6: Estado = Desligada\n",
      "Mês 8, Usina 7: Estado = Desligada\n",
      "Mês 8, Usina 8: Produção = 160.0, Estado = Ligada\n",
      "Mês 8, Usina 9: Estado = Desligada\n",
      "Mês 8, Usina 10: Estado = Desligada\n",
      "Mês 9, Usina 1: Produção = 30.0, Estado = Ligada\n",
      "Mês 9, Usina 2: Estado = Desligada\n",
      "Mês 9, Usina 3: Estado = Desligada\n",
      "Mês 9, Usina 4: Estado = Desligada\n",
      "Mês 9, Usina 5: Estado = Desligada\n",
      "Mês 9, Usina 6: Estado = Desligada\n",
      "Mês 9, Usina 7: Estado = Desligada\n",
      "Mês 9, Usina 8: Produção = 160.0, Estado = Ligada\n",
      "Mês 9, Usina 9: Estado = Desligada\n",
      "Mês 9, Usina 10: Estado = Desligada\n",
      "Mês 10, Usina 1: Produção = 40.0, Estado = Ligada\n",
      "Mês 10, Usina 2: Estado = Desligada\n",
      "Mês 10, Usina 3: Estado = Desligada\n",
      "Mês 10, Usina 4: Estado = Desligada\n",
      "Mês 10, Usina 5: Estado = Desligada\n",
      "Mês 10, Usina 6: Estado = Desligada\n",
      "Mês 10, Usina 7: Estado = Desligada\n",
      "Mês 10, Usina 8: Produção = 160.0, Estado = Ligada\n",
      "Mês 10, Usina 9: Estado = Desligada\n",
      "Mês 10, Usina 10: Estado = Desligada\n",
      "Mês 11, Usina 1: Produção = 50.0, Estado = Ligada\n",
      "Mês 11, Usina 2: Estado = Desligada\n",
      "Mês 11, Usina 3: Estado = Desligada\n",
      "Mês 11, Usina 4: Estado = Desligada\n",
      "Mês 11, Usina 5: Estado = Desligada\n",
      "Mês 11, Usina 6: Estado = Desligada\n",
      "Mês 11, Usina 7: Estado = Desligada\n",
      "Mês 11, Usina 8: Produção = 160.0, Estado = Ligada\n",
      "Mês 11, Usina 9: Estado = Desligada\n",
      "Mês 11, Usina 10: Estado = Desligada\n",
      "Mês 12, Usina 1: Produção = 60.0, Estado = Ligada\n",
      "Mês 12, Usina 2: Estado = Desligada\n",
      "Mês 12, Usina 3: Estado = Desligada\n",
      "Mês 12, Usina 4: Estado = Desligada\n",
      "Mês 12, Usina 5: Estado = Desligada\n",
      "Mês 12, Usina 6: Estado = Desligada\n",
      "Mês 12, Usina 7: Estado = Desligada\n",
      "Mês 12, Usina 8: Produção = 160.0, Estado = Ligada\n",
      "Mês 12, Usina 9: Estado = Desligada\n",
      "Mês 12, Usina 10: Estado = Desligada\n"
     ]
    }
   ],
   "source": [
    "# Problema de \"Unit commitment\" (Q6-L2)\n",
    "\n",
    "# Criação do modelo\n",
    "model = Model(GLPK.Optimizer)\n",
    "\n",
    "# Dados \n",
    "n_usinas = 10\n",
    "n_meses = 12\n",
    "custos_producao = [5, 8, 6, 7, 9, 10, 12, 4, 11, 15]  # Custo de produção por unidade\n",
    "custos_fixos = [100, 150, 120, 130, 160, 110, 90, 140, 170, 180]  # Custo fixo para ligar cada usina\n",
    "demanda = [100, 120, 130, 140, 150, 160, 170, 180, 190, 200, 210, 220]  # Demanda mensal\n",
    "K = [100, 200, 150, 180, 250, 120, 90, 160, 220, 230]  # Capacidade máxima de produção\n",
    "\n",
    "# Variáveis de decisão\n",
    "@variable(model, y[1:n_meses, 1:n_usinas], Bin)\n",
    "@variable(model, u[1:n_meses, 1:n_usinas] >= 0)\n",
    "\n",
    "# Função objetivo\n",
    "@objective(model, Min, sum(custos_producao[i] * u[t, i] for t in 1:n_meses, i in 1:n_usinas) +\n",
    "           sum(custos_fixos[i] * (y[t, i] - (t > 1 ? y[t-1, i] : 0)) for t in 1:n_meses, i in 1:n_usinas))\n",
    "\n",
    "# Restrição de não desligamento após ligação\n",
    "for t in 2:n_meses\n",
    "    for i in 1:n_usinas\n",
    "        @constraint(model, y[t, i] >= y[t-1, i])\n",
    "    end\n",
    "end\n",
    "\n",
    "# Demais estrições\n",
    "for t in 1:n_meses\n",
    "    for i in 1:n_usinas\n",
    "        @constraint(model, u[t, i] <= K[i] * y[t, i])  # Capacidade máxima de produção\n",
    "    end\n",
    "    @constraint(model, sum(u[t, i] for i in 1:n_usinas) >= demanda[t])  # Demanda mensal\n",
    "end\n",
    "\n",
    "# Resolver o modelo\n",
    "optimize!(model)\n",
    "\n",
    "# Exibir resultados\n",
    "println(\"Custo total mínimo: \", objective_value(model))\n",
    "for t in 1:n_meses\n",
    "    for i in 1:n_usinas\n",
    "        if value(y[t, i]) > 0.9\n",
    "            println(\"Mês $t, Usina $i: Produção = \", value(u[t, i]), \", Estado = Ligada\")\n",
    "        else\n",
    "            println(\"Mês $t, Usina $i: Estado = Desligada\")\n",
    "        end\n",
    "    end\n",
    "end\n"
   ]
  },
  {
   "cell_type": "markdown",
   "metadata": {
    "tags": []
   },
   "source": [
    "# A1"
   ]
  },
  {
   "cell_type": "markdown",
   "metadata": {
    "jp-MarkdownHeadingCollapsed": true,
    "tags": []
   },
   "source": [
    "## Questão 1\n",
    "![image.png](figs/1A1.png)"
   ]
  },
  {
   "cell_type": "code",
   "execution_count": 41,
   "metadata": {},
   "outputs": [
    {
     "name": "stdout",
     "output_type": "stream",
     "text": [
      "Lucro máximo: 290821.42857142864\n",
      "Quantidades de líquidos vendidos diretamente e em misturas:\n",
      "Líquido 1: vendido diretamente = 0.0, em misturas = 8000.0\n",
      "Líquido 2: vendido diretamente = 0.0, em misturas = 4250.0\n",
      "Líquido 3: vendido diretamente = 0.0, em misturas = 7392.857142857144\n",
      "Líquido 4: vendido diretamente = 0.0, em misturas = 2000.0\n",
      "Quantidade de produto P: 15321.428571428576\n"
     ]
    }
   ],
   "source": [
    "# Problema da mistura de líquidos (Q1-A1)\n",
    "\n",
    "# Criar o modelo\n",
    "model = Model(GLPK.Optimizer)\n",
    "\n",
    "# Definição das variáveis\n",
    "@variable(model, x[1:4, 1:3] >= 0)  # Quantidades de líquidos nas misturas\n",
    "@variable(model, l[1:4] >= 0)       # Quantidades de líquidos vendidos diretamente\n",
    "@variable(model, p >= 0)            # Quantidade do produto P\n",
    "\n",
    "# Função objetivo: Maximizar receita - custo\n",
    "@objective(model, Max, \n",
    "    6 * sum(l) + 22 * p + 11 * (sum(x[:, 1])-p/3) + 15 * sum(x[:, 2]) + 14 * (sum(x[:, 3])-2/3 * p) - \n",
    "    (5.5 * (sum(x[1, :] .+ l[1])) + 4.5 * (sum(x[2, :] .+ l[2])) + \n",
    "    7.5 * (sum(x[3, :] .+ l[3])) + 11.25 * (sum(x[4, :] .+ l[4])))\n",
    ")\n",
    "\n",
    "# Restrições de estoque\n",
    "@constraint(model, sum(x[1, :]) + l[1] <= 8000)\n",
    "@constraint(model, sum(x[2, :]) + l[2] <= 4250)\n",
    "@constraint(model, sum(x[3, :]) + l[3] <= 16000)\n",
    "@constraint(model, sum(x[4, :]) + l[4] <= 2000)\n",
    "\n",
    "# Composição das misturas\n",
    "@constraint(model, x[1,1] == 0.3 * sum(x[:,1]))  # Mistura E\n",
    "@constraint(model, x[2,1] >= 0.1 * sum(x[:,1]))  # Mistura E\n",
    "@constraint(model, x[3,1] == 0.4 * sum(x[:,1]))  # Mistura E\n",
    "@constraint(model, x[4,1] <= 0.05 * sum(x[:,1])) # Mistura E\n",
    "\n",
    "@constraint(model, x[1,2] >= 0.25 * sum(x[:,2])) # Mistura F\n",
    "@constraint(model, x[2,2] <= 0.2 * sum(x[:,2]))  # Mistura F\n",
    "@constraint(model, x[3,2] == 0.2 * sum(x[:,2]))  # Mistura F\n",
    "@constraint(model, x[4,2] >= 0.1 * sum(x[:,2]))  # Mistura F\n",
    "\n",
    "@constraint(model, x[1,3] == 0.2 * sum(x[:,3]))  # Mistura G\n",
    "@constraint(model, x[2,3] >= 0.15 * sum(x[:,3])) # Mistura G\n",
    "@constraint(model, x[3,3] == 0.4 * sum(x[:,3]))  # Mistura G\n",
    "@constraint(model, x[4,3] <= 0.2 * sum(x[:,3]))  # Mistura G\n",
    "\n",
    "# Produção mínima das misturas\n",
    "@constraint(model, sum(x[:,1]) >= 400)\n",
    "@constraint(model, sum(x[:,2]) >= 800)\n",
    "@constraint(model, sum(x[:,3]) >= 200)\n",
    "\n",
    "# Relação para produção de P\n",
    "@constraint(model, sum(x[:,1]) - p/3 >= 0)\n",
    "@constraint(model, sum(x[:,3]) - 2/3 * p >= 0)\n",
    "\n",
    "# Resolver o modelo\n",
    "optimize!(model)\n",
    "\n",
    "# Exibir os resultados\n",
    "println(\"Lucro máximo: \", objective_value(model))\n",
    "println(\"Quantidades de líquidos vendidos diretamente e em misturas:\")\n",
    "for i in 1:4\n",
    "    println(\"Líquido \", i, \": vendido diretamente = \", value(l[i]), \", em misturas = \", value(sum(x[i,:])))\n",
    "end\n",
    "println(\"Quantidade de produto P: \", value(p))\n"
   ]
  },
  {
   "cell_type": "markdown",
   "metadata": {
    "jp-MarkdownHeadingCollapsed": true,
    "tags": []
   },
   "source": [
    "## Questão 2\n",
    "![image.png](figs/2A2.png)"
   ]
  },
  {
   "cell_type": "code",
   "execution_count": 42,
   "metadata": {},
   "outputs": [
    {
     "name": "stdout",
     "output_type": "stream",
     "text": [
      "Função objetivo: 50 x[1,1] + 90 x[1,2] + 80 x[1,3] + 60 x[2,2] + 50 x[2,3] + 30 x[3,2] + 40 x[3,3]\n",
      "\n",
      "Valor ótimo: 2500.0\n",
      "\n",
      "Solução ótima:\n",
      "x[1,1] = 20.0\n",
      "x[1,2] = 0.0\n",
      "x[1,3] = 0.0\n",
      "x[2,1] = 0.0\n",
      "x[2,2] = 0.0\n",
      "x[2,3] = 0.0\n",
      "x[3,1] = 0.0\n",
      "x[3,2] = 10.0\n",
      "x[3,3] = 30.0\n"
     ]
    }
   ],
   "source": [
    "# Problema da companhia energética (Q2-A1)\n",
    "A = [1 0 0 0 0 0 0 0 0;0 1 0 0 1 0 0 1 0;0 0 1 0 0 1 0 0 1]\n",
    "b = [20;10;30]\n",
    "C = [1 1 1 0 0 0 0 0 0;0 0 0 0 1 1 0 0 0;0 0 0 0 0 0 0 1 1]\n",
    "d = [50;20;50]\n",
    "weights = [50 90 80 0 60 50 0 30 40]\n",
    "i = 3\n",
    "j = 3\n",
    "\n",
    "PLI(0, i, j, weights, 0, 0, C, d, A, b)"
   ]
  }
 ],
 "metadata": {
  "kernelspec": {
   "display_name": "Julia 1.8.1",
   "language": "julia",
   "name": "julia-1.8"
  },
  "language_info": {
   "file_extension": ".jl",
   "mimetype": "application/julia",
   "name": "julia",
   "version": "1.8.1"
  }
 },
 "nbformat": 4,
 "nbformat_minor": 4
}
