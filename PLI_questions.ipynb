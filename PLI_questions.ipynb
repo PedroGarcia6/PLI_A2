{
 "cells": [
  {
   "cell_type": "code",
   "execution_count": 2,
   "metadata": {},
   "outputs": [
    {
     "data": {
      "text/plain": [
       "Plots.PyPlotBackend()"
      ]
     },
     "execution_count": 2,
     "metadata": {},
     "output_type": "execute_result"
    }
   ],
   "source": [
    "using LinearAlgebra\n",
    "using JuMP\n",
    "using GLPK\n",
    "using Plots\n",
    "pyplot()"
   ]
  },
  {
   "cell_type": "code",
   "execution_count": 3,
   "metadata": {},
   "outputs": [
    {
     "name": "stdout",
     "output_type": "stream",
     "text": [
      "Valor ótimo:   240.0\n",
      "Solução ótima: (4.0, 6.0)\n"
     ]
    }
   ],
   "source": [
    "# Problema do sapateiro (Q4-L1) versão 1\n",
    "model = Model()\n",
    "set_optimizer(model, GLPK.Optimizer)\n",
    "\n",
    "# Define as variáveis\n",
    "@variable(model, x>=0)\n",
    "@variable(model, y>=0)\n",
    "\n",
    "# Define as restrições\n",
    "@constraint(model, x+y<=10)\n",
    "@constraint(model, 12x+5y<=78)\n",
    "\n",
    "# Define a função objetivo\n",
    "@objective(model, Max, 30x+20y)\n",
    "\n",
    "# Roda a otimização\n",
    "optimize!(model)\n",
    "\n",
    "# Exibe os resultados\n",
    "println(\"Valor ótimo:   \", objective_value(model))\n",
    "println(\"Solução ótima: \", (value.(x), value.(y)))"
   ]
  },
  {
   "cell_type": "code",
   "execution_count": 2,
   "metadata": {},
   "outputs": [
    {
     "name": "stdout",
     "output_type": "stream",
     "text": [
      "Valor ótimo:   240.0\n",
      "Solução ótima: (24.0, 29.999999999999996)\n"
     ]
    }
   ],
   "source": [
    "# Problema do sapateiro (Q4-L1) versão 2\n",
    "model = Model()\n",
    "set_optimizer(model, GLPK.Optimizer)\n",
    "\n",
    "# Define as variáveis\n",
    "@variable(model, x>=0)\n",
    "@variable(model, y>=0)\n",
    "\n",
    "# Define as restrições\n",
    "@constraint(model, x/6+y/5<=10)\n",
    "@constraint(model, 2x+y<=78)\n",
    "\n",
    "# Define a função objetivo\n",
    "@objective(model, Max, 5x+4y)\n",
    "\n",
    "# Roda a otimização\n",
    "optimize!(model)\n",
    "\n",
    "# Exibe os resultados\n",
    "println(\"Valor ótimo:   \", objective_value(model))\n",
    "println(\"Solução ótima: \", (value.(x), value.(y)))"
   ]
  },
  {
   "cell_type": "code",
   "execution_count": 5,
   "metadata": {},
   "outputs": [
    {
     "name": "stdout",
     "output_type": "stream",
     "text": [
      "Valor ótimo:   12000.0\n",
      "Solução ótima: (0.0, 400.0)\n"
     ]
    }
   ],
   "source": [
    "# Problema do combustível para avião (Q5-L1)\n",
    "model = Model()\n",
    "set_optimizer(model, GLPK.Optimizer)\n",
    "\n",
    "# Define as variáveis\n",
    "@variable(model, x>=0)\n",
    "@variable(model, y>=0)\n",
    "\n",
    "# Define as restrições\n",
    "@constraint(model, 0.25x<=500)\n",
    "@constraint(model, 0.25x+0.5y<=200)\n",
    "@constraint(model, 0.5x+0.5y<=200)\n",
    "\n",
    "# Define a função objetivo\n",
    "@objective(model, Max, 20x+30y)\n",
    "\n",
    "# Roda a otimização\n",
    "optimize!(model)\n",
    "\n",
    "# Exibe os resultados\n",
    "println(\"Valor ótimo:   \", objective_value(model))\n",
    "println(\"Solução ótima: \", (value.(x), value.(y)))"
   ]
  },
  {
   "cell_type": "code",
   "execution_count": 207,
   "metadata": {},
   "outputs": [
    {
     "data": {
      "text/plain": [
       "PLI (generic function with 3 methods)"
      ]
     },
     "execution_count": 207,
     "metadata": {},
     "output_type": "execute_result"
    }
   ],
   "source": [
    "function PLI(max_min, i, j, weights, A, b, C, d, E, f)\n",
    "    model = Model(GLPK.Optimizer) # Cria modelo\n",
    "    p = length(weights)\n",
    "\n",
    "    # Define variáveis\n",
    "    @variable(model, x[1:i, 1:j] >= 0)\n",
    "    x = reshape(x', p, 1)\n",
    "\n",
    "    # Define restrições\n",
    "    for l in 1:length(f)\n",
    "        @constraint(model, (E*x)[l] >= f[l]) # Restrições de desigualdade >=\n",
    "    end\n",
    "    for m in 1:length(b)\n",
    "        @constraint(model, (A*x)[m] == b[m]) # Restrições de igualdade\n",
    "    end\n",
    "    for n in 1:length(d)\n",
    "        @constraint(model, (C*x)[n] <= d[n]) # Restrições de desigualdade <=\n",
    "    end\n",
    "\n",
    "    # Define função objetivo\n",
    "    if max_min == 1\n",
    "        @objective(model, Max, sum(weights[k] * x[k] for k in 1:p)) # Problema de maximização\n",
    "    else\n",
    "        @objective(model, Min, sum(weights[k] * x[k] for k in 1:p)) # Problema de minimização\n",
    "    end\n",
    "    \n",
    "    # Roda a otimização\n",
    "    optimize!(model)\n",
    "    \n",
    "    # Exibe resultados\n",
    "    println(\"Função objetivo: \", objective_function(model))\n",
    "    println()\n",
    "    println(\"Valor ótimo: \", objective_value(model))\n",
    "    println()\n",
    "    println(\"Solução ótima:\")\n",
    "    for k in 1:p\n",
    "        println(x[k], \" = \", value(x[k]))\n",
    "    end\n",
    "end"
   ]
  },
  {
   "cell_type": "code",
   "execution_count": 210,
   "metadata": {},
   "outputs": [
    {
     "name": "stdout",
     "output_type": "stream",
     "text": [
      "Função objetivo: 50 x[1,1] + 90 x[1,2] + 80 x[1,3] + 60 x[2,2] + 50 x[2,3] + 30 x[3,2] + 40 x[3,3]\n",
      "\n",
      "Valor ótimo: 2500.0\n",
      "\n",
      "Solução ótima:\n",
      "x[1,1] = 20.0\n",
      "x[1,2] = 0.0\n",
      "x[1,3] = 0.0\n",
      "x[2,1] = 0.0\n",
      "x[2,2] = 0.0\n",
      "x[2,3] = 0.0\n",
      "x[3,1] = 0.0\n",
      "x[3,2] = 10.0\n",
      "x[3,3] = 30.0\n"
     ]
    }
   ],
   "source": [
    "# Problema da companhia energética (Q2-A1)\n",
    "A = [1 0 0 0 0 0 0 0 0;0 1 0 0 1 0 0 1 0;0 0 1 0 0 1 0 0 1]\n",
    "b = [20;10;30]\n",
    "C = [1 1 1 0 0 0 0 0 0;0 0 0 0 1 1 0 0 0;0 0 0 0 0 0 0 1 1]\n",
    "d = [50;20;50]\n",
    "weights = [50 90 80 0 60 50 0 30 40]\n",
    "i = 3\n",
    "j = 3\n",
    "\n",
    "PLI(0, i, j, weights, 0, 0, C, d, A, b)"
   ]
  },
  {
   "cell_type": "code",
   "execution_count": 213,
   "metadata": {},
   "outputs": [
    {
     "name": "stdout",
     "output_type": "stream",
     "text": [
      "Função objetivo: x[1,1] + 1.5 x[1,2] + 3.5 x[1,3] + 2 x[2,1] + x[2,2] + 2 x[2,3]\n",
      "\n",
      "Valor ótimo: 1000.0\n",
      "\n",
      "Solução ótima:\n",
      "x[1,1] = 100.0\n",
      "x[1,2] = 200.0\n",
      "x[1,3] = 0.0\n",
      "x[2,1] = 0.0\n",
      "x[2,2] = 0.0\n",
      "x[2,3] = 300.0\n"
     ]
    }
   ],
   "source": [
    "# Problema das usinas da fábrica (Q1-L1)\n",
    "E = [1 0 0 1 0 0;0 1 0 0 1 0;0 0 1 0 0 1]\n",
    "f = [100;200;300]\n",
    "C = [1 1 1 0 0 0;0 0 0 1 1 1]\n",
    "d = [400;300]\n",
    "weights = [1 1.5 3.5 2 1 2]\n",
    "i = 2\n",
    "j = 3\n",
    "\n",
    "PLI(0, i, j, weights, 0, 0, C, d, E, f)"
   ]
  },
  {
   "cell_type": "code",
   "execution_count": 217,
   "metadata": {},
   "outputs": [
    {
     "name": "stdout",
     "output_type": "stream",
     "text": [
      "Função objetivo: 7 x[1,1] + 9 x[2,1]\n",
      "\n",
      "Valor ótimo: 62.0\n",
      "\n",
      "Solução ótima:\n",
      "x[1,1] = 5.0\n",
      "x[2,1] = 3.0\n"
     ]
    }
   ],
   "source": [
    "# Problema da usina química (Q2-L1)\n",
    "C = [1 1;2 3;0 1]\n",
    "d = [8;19;4]\n",
    "weights = [7 9]\n",
    "i = 2\n",
    "j = 1\n",
    "\n",
    "PLI(1, i, j, weights, 0, 0, C, d, 0, 0)"
   ]
  },
  {
   "cell_type": "code",
   "execution_count": 214,
   "metadata": {},
   "outputs": [
    {
     "name": "stdout",
     "output_type": "stream",
     "text": [
      "Função objetivo: 38 x[1,1] + 27 x[1,2] + 48 x[1,3] + 37 x[2,1] + 58 x[2,2] + 45 x[2,3]\n",
      "\n",
      "Valor ótimo: 430.0\n",
      "\n",
      "Solução ótima:\n",
      "x[1,1] = 2.0\n",
      "x[1,2] = 4.0\n",
      "x[1,3] = 0.0\n",
      "x[2,1] = 3.0\n",
      "x[2,2] = 0.0\n",
      "x[2,3] = 3.0\n"
     ]
    }
   ],
   "source": [
    "# Problema das usinas de carro (Q3-L1)\n",
    "E = [1 0 0 1 0 0;0 1 0 0 1 0;0 0 1 0 0 1]\n",
    "f = [5;4;3]\n",
    "C = [1 1 1 0 0 0;0 0 0 1 1 1]\n",
    "d = [6;6]\n",
    "weights = [38 27 48 37 58 45]\n",
    "i = 2\n",
    "j = 3\n",
    "\n",
    "PLI(0, i, j, weights, 0, 0, C, d, E, f)"
   ]
  },
  {
   "cell_type": "code",
   "execution_count": 215,
   "metadata": {},
   "outputs": [
    {
     "name": "stdout",
     "output_type": "stream",
     "text": [
      "Função objetivo: 30 x[1,1] + 20 x[2,1]\n",
      "\n",
      "Valor ótimo: 240.0\n",
      "\n",
      "Solução ótima:\n",
      "x[1,1] = 4.0\n",
      "x[2,1] = 6.0\n"
     ]
    }
   ],
   "source": [
    "# Problema do sapateiro (Q4-L1) versão 1\n",
    "C = [1 1;12 5]\n",
    "d = [10;78]\n",
    "weights = [30 20]\n",
    "i = 2\n",
    "j = 1\n",
    "\n",
    "PLI(1, i, j, weights, 0, 0, C, d, 0, 0)"
   ]
  },
  {
   "cell_type": "code",
   "execution_count": 216,
   "metadata": {},
   "outputs": [
    {
     "name": "stdout",
     "output_type": "stream",
     "text": [
      "Função objetivo: 5 x[1,1] + 4 x[2,1]\n",
      "\n",
      "Valor ótimo: 240.0\n",
      "\n",
      "Solução ótima:\n",
      "x[1,1] = 24.0\n",
      "x[2,1] = 29.999999999999996\n"
     ]
    }
   ],
   "source": [
    "# Problema do sapateiro (Q4-L1) versão 2\n",
    "C = [1/6 1/5;2 1]\n",
    "d = [10;78]\n",
    "weights = [5 4]\n",
    "i = 2\n",
    "j = 1\n",
    "\n",
    "PLI(1, i, j, weights, 0, 0, C, d, 0, 0)"
   ]
  },
  {
   "cell_type": "code",
   "execution_count": 212,
   "metadata": {},
   "outputs": [
    {
     "name": "stdout",
     "output_type": "stream",
     "text": [
      "Função objetivo: 20 x[1,1] + 30 x[2,1]\n",
      "\n",
      "Valor ótimo: 12000.0\n",
      "\n",
      "Solução ótima:\n",
      "x[1,1] = 0.0\n",
      "x[2,1] = 400.0\n"
     ]
    }
   ],
   "source": [
    "# Problema do combustível para avião (Q5-L1)\n",
    "C = [0.25 0;0.25 0.5;0.5 0.5]\n",
    "d = [500;200;200]\n",
    "weights = [20 30]\n",
    "i = 2\n",
    "j = 1\n",
    "\n",
    "PLI(1, i, j, weights, 0, 0, C, d, 0, 0)"
   ]
  },
  {
   "cell_type": "code",
   "execution_count": 6,
   "metadata": {},
   "outputs": [
    {
     "name": "stdout",
     "output_type": "stream",
     "text": [
      "Lucro máximo: 7166.666666666666\n",
      "Quantidades de petróleo para diesel A, B, C:\n",
      "Diesel 1:\n",
      "  Petróleo 1: 1099.9999999999998\n",
      "  Petróleo 2: 1466.6666666666665\n",
      "  Petróleo 3: 1099.9999999999995\n",
      "  Petróleo 4: 0.0\n",
      "  Diesel total 1: 3666.6666666666656\n",
      "Diesel 2:\n",
      "  Petróleo 1: 1900.0\n",
      "  Petróleo 2: 533.3333333333334\n",
      "  Petróleo 3: 2900.0000000000005\n",
      "  Petróleo 4: 0.0\n",
      "  Diesel total 2: 5333.333333333334\n",
      "Diesel 3:\n",
      "  Petróleo 1: 0.0\n",
      "  Petróleo 2: 0.0\n",
      "  Petróleo 3: 0.0\n",
      "  Petróleo 4: 0.0\n",
      "  Diesel total 3: 0.0\n"
     ]
    }
   ],
   "source": [
    "# Problema da fábrica de petróleo (Q6-L1)\n",
    "\n",
    "# Criar o modelo com o solver GLPK\n",
    "model = Model(GLPK.Optimizer)\n",
    "\n",
    "# Variáveis de decisão\n",
    "@variable(model, x[1:4, 1:3] >= 0)  # Quantidade de cada petróleo em cada diesel\n",
    "\n",
    "d1 = x[1,1] + x[2,1] + x[3,1] + x[4,1]  # Diesel A\n",
    "d2 = x[1,2] + x[2,2] + x[3,2] + x[4,2]  # Diesel B\n",
    "d3 = x[1,3] + x[2,3] + x[3,3] + x[4,3]  # Diesel C\n",
    "d = [d1, d2, d3]\n",
    "\n",
    "# Função Objetivo: Maximizar o lucro total\n",
    "@objective(model, Max, 5.5d[1] + 4.5d[2] + 3.5d[3] - (3*(x[1,1] + x[1,2] + x[1,3]) + 6*(x[2,1] + x[2,2] + x[2,3]) + 4*(x[3,1] + x[3,2] + x[3,3]) + 5*(x[4,1] + x[4,2] + x[4,3])))\n",
    "\n",
    "# Restrições\n",
    "@constraint(model, x[1,1] + x[1,2] + x[1,3] <= 3000)  # Estoque petróleo 1\n",
    "@constraint(model, x[2,1] + x[2,2] + x[2,3] <= 2000)  # Estoque petróleo 2\n",
    "@constraint(model, x[3,1] + x[3,2] + x[3,3] <= 4000)  # Estoque petróleo 3\n",
    "@constraint(model, x[4,1] + x[4,2] + x[4,3] <= 1000)  # Estoque petróleo 4\n",
    "@constraint(model, x[1,1] <= 0.3d[1])                # Proporção em diesel A\n",
    "@constraint(model, x[3,1] <= 0.5d[1])                # Proporção em diesel A\n",
    "@constraint(model, x[2,1] >= 0.4d[1])                # Proporção em diesel A\n",
    "@constraint(model, x[2,2] >= 0.1d[2])                # Proporção em diesel B\n",
    "@constraint(model, x[1,2] <= 0.5d[2])                # Proporção em diesel B\n",
    "@constraint(model, x[1,3] <= 0.7d[3])                # Proporção em diesel C\n",
    "\n",
    "# Resolver o modelo\n",
    "optimize!(model)\n",
    "\n",
    "# Exibir os resultados\n",
    "println(\"Lucro máximo: \", objective_value(model))\n",
    "println(\"Quantidades de petróleo para diesel A, B, C:\")\n",
    "for j in 1:3\n",
    "    println(\"Diesel \", j, \":\")\n",
    "    for i in 1:4\n",
    "        println(\"  Petróleo \", i, \": \", value(x[i,j]))\n",
    "    end\n",
    "    println(\"  Diesel total \", j, \": \", value(d[j]))\n",
    "end\n"
   ]
  },
  {
   "cell_type": "code",
   "execution_count": 6,
   "metadata": {},
   "outputs": [
    {
     "name": "stdout",
     "output_type": "stream",
     "text": [
      "Lucro máximo: 290821.42857142864\n",
      "Quantidades de líquidos vendidos diretamente e em misturas:\n",
      "Líquido 1: vendido diretamente = 0.0, em misturas = 8000.0\n",
      "Líquido 2: vendido diretamente = 0.0, em misturas = 4250.0\n",
      "Líquido 3: vendido diretamente = 0.0, em misturas = 7392.857142857144\n",
      "Líquido 4: vendido diretamente = 0.0, em misturas = 2000.0\n",
      "Quantidade de produto P: 15321.428571428576\n"
     ]
    }
   ],
   "source": [
    "# Problema da mistura de líquidos (Q1-A1)\n",
    "\n",
    "# Criar o modelo\n",
    "model = Model(GLPK.Optimizer)\n",
    "\n",
    "# Definição das variáveis\n",
    "@variable(model, x[1:4, 1:3] >= 0)  # Quantidades de líquidos nas misturas\n",
    "@variable(model, l[1:4] >= 0)       # Quantidades de líquidos vendidos diretamente\n",
    "@variable(model, p >= 0)            # Quantidade do produto P\n",
    "\n",
    "# Função objetivo: Maximizar receita - custo\n",
    "@objective(model, Max, \n",
    "    6 * sum(l) + 22 * p + 11 * (sum(x[:, 1])-p/3) + 15 * sum(x[:, 2]) + 14 * (sum(x[:, 3])-2/3 * p) - \n",
    "    (5.5 * (sum(x[1, :] .+ l[1])) + 4.5 * (sum(x[2, :] .+ l[2])) + \n",
    "    7.5 * (sum(x[3, :] .+ l[3])) + 11.25 * (sum(x[4, :] .+ l[4])))\n",
    ")\n",
    "\n",
    "# Restrições de estoque\n",
    "@constraint(model, sum(x[1, :]) + l[1] <= 8000)\n",
    "@constraint(model, sum(x[2, :]) + l[2] <= 4250)\n",
    "@constraint(model, sum(x[3, :]) + l[3] <= 16000)\n",
    "@constraint(model, sum(x[4, :]) + l[4] <= 2000)\n",
    "\n",
    "# Composição das misturas\n",
    "@constraint(model, x[1,1] == 0.3 * sum(x[:,1]))  # Mistura E\n",
    "@constraint(model, x[2,1] >= 0.1 * sum(x[:,1]))  # Mistura E\n",
    "@constraint(model, x[3,1] == 0.4 * sum(x[:,1]))  # Mistura E\n",
    "@constraint(model, x[4,1] <= 0.05 * sum(x[:,1])) # Mistura E\n",
    "\n",
    "@constraint(model, x[1,2] >= 0.25 * sum(x[:,2])) # Mistura F\n",
    "@constraint(model, x[2,2] <= 0.2 * sum(x[:,2]))  # Mistura F\n",
    "@constraint(model, x[3,2] == 0.2 * sum(x[:,2]))  # Mistura F\n",
    "@constraint(model, x[4,2] >= 0.1 * sum(x[:,2]))  # Mistura F\n",
    "\n",
    "@constraint(model, x[1,3] == 0.2 * sum(x[:,3]))  # Mistura G\n",
    "@constraint(model, x[2,3] >= 0.15 * sum(x[:,3])) # Mistura G\n",
    "@constraint(model, x[3,3] == 0.4 * sum(x[:,3]))  # Mistura G\n",
    "@constraint(model, x[4,3] <= 0.2 * sum(x[:,3]))  # Mistura G\n",
    "\n",
    "# Produção mínima das misturas\n",
    "@constraint(model, sum(x[:,1]) >= 400)\n",
    "@constraint(model, sum(x[:,2]) >= 800)\n",
    "@constraint(model, sum(x[:,3]) >= 200)\n",
    "\n",
    "# Relação para produção de P\n",
    "@constraint(model, sum(x[:,1]) - p/3 >= 0)\n",
    "@constraint(model, sum(x[:,3]) - 2/3 * p >= 0)\n",
    "\n",
    "# Resolver o modelo\n",
    "optimize!(model)\n",
    "\n",
    "# Exibir os resultados\n",
    "println(\"Lucro máximo: \", objective_value(model))\n",
    "println(\"Quantidades de líquidos vendidos diretamente e em misturas:\")\n",
    "for i in 1:4\n",
    "    println(\"Líquido \", i, \": vendido diretamente = \", value(l[i]), \", em misturas = \", value(sum(x[i,:])))\n",
    "end\n",
    "println(\"Quantidade de produto P: \", value(p))\n"
   ]
  },
  {
   "cell_type": "code",
   "execution_count": 17,
   "metadata": {},
   "outputs": [
    {
     "name": "stdout",
     "output_type": "stream",
     "text": [
      "Custo mínimo: 22300.0\n",
      "Máquina 1:\n",
      "  Horas extras adquiridas = 0.0\n",
      "  Horas produzindo produto 1: 300.0\n",
      "  Horas produzindo produto 2: 0.0\n",
      "  Horas produzindo produto 3: 0.0\n",
      "Máquina 2:\n",
      "  Horas extras adquiridas = 0.0\n",
      "  Horas produzindo produto 1: 0.0\n",
      "  Horas produzindo produto 2: 666.6666666666666\n",
      "  Horas produzindo produto 3: 0.0\n",
      "Máquina 3:\n",
      "  Horas extras adquiridas = 0.0\n",
      "  Horas produzindo produto 1: 1800.0\n",
      "  Horas produzindo produto 2: 0.0\n",
      "  Horas produzindo produto 3: 1200.0\n",
      "Máquina 4:\n",
      "  Horas extras adquiridas = 0.0\n",
      "  Horas produzindo produto 1: 0.0\n",
      "  Horas produzindo produto 2: 0.0\n",
      "  Horas produzindo produto 3: 3000.0\n"
     ]
    }
   ],
   "source": [
    "# Planificação da expansão da produção (Q3-L2)\n",
    "\n",
    "model = Model(GLPK.Optimizer)\n",
    "\n",
    "# Dados do problema\n",
    "m = 4  # Número de máquinas\n",
    "n = 3  # Número de produtos\n",
    "T = 100  # Máximo de horas de revisão\n",
    "p = [400, 400, 400]  # Custo por unidade não vendida\n",
    "c = [2.5, 3.75, 5.0, 3.0]  # Custo por hora adicional\n",
    "h = [500, 500, 500, 500]  # Horas regulares de funcionamento\n",
    "u = [2000, 2000, 3000, 3000]  # Cota superior de horas\n",
    "t = [0.08, 0.04, 0.03, 0.01]  # Taxa de revisão por hora\n",
    "\n",
    "a = [0.6 0.6 0.9 0.8; \n",
    "     0.1 0.9 0.6 0.8; \n",
    "     0.05 0.2 0.5 0.8]  # Matriz de eficiência de produção\n",
    "\n",
    "g = [2.6 3.4 3.4 2.5;\n",
    "     1.5 2.4 2.0 3.6;\n",
    "     4.0 3.8 3.5 3.2]  # Matriz de custo por hora\n",
    "\n",
    "d = [1800, 600, 3000]  # Demanda dos produtos\n",
    "\n",
    "# Variáveis\n",
    "@variable(model, h_ij[1:n, 1:m] >= 0)  # Horas de produção de produto i em máquina j\n",
    "@variable(model, e[1:m] >= 0)          # Horas extras adquiridas para máquina j\n",
    "@variable(model, s[1:n] >= 0)          # Variáveis auxiliares para linearização\n",
    "\n",
    "# Função Objetivo\n",
    "@objective(model, Min, sum(c[j] * e[j] for j in 1:m) + \n",
    "                       sum(g[i,j] * h_ij[i,j] for i in 1:n, j in 1:m) + \n",
    "                       sum(p[i] * s[i] for i in 1:n))\n",
    "\n",
    "\n",
    "# Restrições de linearização\n",
    "for i in 1:n\n",
    "    @constraint(model, s[i] >= sum(a[i, j] * h_ij[i, j] for j in 1:m) - d[i])\n",
    "end\n",
    "\n",
    "# Denais restrições\n",
    "for j in 1:m\n",
    "    @constraint(model, sum(h_ij[:, j]) + e[j] <= u[j])  # Horas totais disponíveis por máquina\n",
    "    @constraint(model, sum(t[j] * (sum(h_ij[:, j]) + e[j])) <= T)  # Limite de tempo de revisão\n",
    "end\n",
    "\n",
    "for i in 1:n\n",
    "    @constraint(model, sum(a[i,j] * h_ij[i,j] for j in 1:m) >= d[i])  # Demanda do produto i\n",
    "end\n",
    "\n",
    "# Resolver o modelo\n",
    "optimize!(model)\n",
    "\n",
    "# Exibir os resultados\n",
    "println(\"Custo mínimo: \", objective_value(model))\n",
    "for j in 1:m\n",
    "    println(\"Máquina \", j, \":\")\n",
    "    println(\"  Horas extras adquiridas = \", value(e[j]))\n",
    "    for i in 1:n\n",
    "        println(\"  Horas produzindo produto \", i, \": \", value(h_ij[i,j]))\n",
    "    end\n",
    "end\n"
   ]
  }
 ],
 "metadata": {
  "kernelspec": {
   "display_name": "Julia 1.10.3",
   "language": "julia",
   "name": "julia-1.10"
  },
  "language_info": {
   "file_extension": ".jl",
   "mimetype": "application/julia",
   "name": "julia",
   "version": "1.10.3"
  }
 },
 "nbformat": 4,
 "nbformat_minor": 4
}
