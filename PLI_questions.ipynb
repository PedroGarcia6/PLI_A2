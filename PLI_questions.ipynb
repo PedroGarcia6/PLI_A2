{
 "cells": [
  {
   "cell_type": "code",
   "execution_count": 1,
   "metadata": {},
   "outputs": [
    {
     "data": {
      "text/plain": [
       "Plots.PyPlotBackend()"
      ]
     },
     "execution_count": 1,
     "metadata": {},
     "output_type": "execute_result"
    }
   ],
   "source": [
    "using LinearAlgebra\n",
    "using JuMP\n",
    "using GLPK\n",
    "using Plots\n",
    "pyplot()"
   ]
  },
  {
   "cell_type": "code",
   "execution_count": 3,
   "metadata": {},
   "outputs": [
    {
     "name": "stdout",
     "output_type": "stream",
     "text": [
      "Valor ótimo:   240.0\n",
      "Solução ótima: (4.0, 6.0)\n"
     ]
    }
   ],
   "source": [
    "# Problema do sapateiro (Q4-L1) versão 1\n",
    "model = Model()\n",
    "set_optimizer(model, GLPK.Optimizer)\n",
    "\n",
    "# Define as variáveis\n",
    "@variable(model, x>=0)\n",
    "@variable(model, y>=0)\n",
    "\n",
    "# Define as restrições\n",
    "@constraint(model, x+y<=10)\n",
    "@constraint(model, 12x+5y<=78)\n",
    "\n",
    "# Define a função objetivo\n",
    "@objective(model, Max, 30x+20y)\n",
    "\n",
    "# Roda a otimização\n",
    "optimize!(model)\n",
    "\n",
    "# Exibe os resultados\n",
    "println(\"Valor ótimo:   \", objective_value(model))\n",
    "println(\"Solução ótima: \", (value.(x), value.(y)))"
   ]
  },
  {
   "cell_type": "code",
   "execution_count": 2,
   "metadata": {},
   "outputs": [
    {
     "name": "stdout",
     "output_type": "stream",
     "text": [
      "Valor ótimo:   240.0\n",
      "Solução ótima: (24.0, 29.999999999999996)\n"
     ]
    }
   ],
   "source": [
    "# Problema do sapateiro (Q4-L1) versão 2\n",
    "model = Model()\n",
    "set_optimizer(model, GLPK.Optimizer)\n",
    "\n",
    "# Define as variáveis\n",
    "@variable(model, x>=0)\n",
    "@variable(model, y>=0)\n",
    "\n",
    "# Define as restrições\n",
    "@constraint(model, x/6+y/5<=10)\n",
    "@constraint(model, 2x+y<=78)\n",
    "\n",
    "# Define a função objetivo\n",
    "@objective(model, Max, 5x+4y)\n",
    "\n",
    "# Roda a otimização\n",
    "optimize!(model)\n",
    "\n",
    "# Exibe os resultados\n",
    "println(\"Valor ótimo:   \", objective_value(model))\n",
    "println(\"Solução ótima: \", (value.(x), value.(y)))"
   ]
  },
  {
   "cell_type": "code",
   "execution_count": 5,
   "metadata": {},
   "outputs": [
    {
     "name": "stdout",
     "output_type": "stream",
     "text": [
      "Valor ótimo:   12000.0\n",
      "Solução ótima: (0.0, 400.0)\n"
     ]
    }
   ],
   "source": [
    "# Problema do combustível para avião (Q5-L1)\n",
    "model = Model()\n",
    "set_optimizer(model, GLPK.Optimizer)\n",
    "\n",
    "# Define as variáveis\n",
    "@variable(model, x>=0)\n",
    "@variable(model, y>=0)\n",
    "\n",
    "# Define as restrições\n",
    "@constraint(model, 0.25x<=500)\n",
    "@constraint(model, 0.25x+0.5y<=200)\n",
    "@constraint(model, 0.5x+0.5y<=200)\n",
    "\n",
    "# Define a função objetivo\n",
    "@objective(model, Max, 20x+30y)\n",
    "\n",
    "# Roda a otimização\n",
    "optimize!(model)\n",
    "\n",
    "# Exibe os resultados\n",
    "println(\"Valor ótimo:   \", objective_value(model))\n",
    "println(\"Solução ótima: \", (value.(x), value.(y)))"
   ]
  },
  {
   "cell_type": "code",
   "execution_count": 207,
   "metadata": {},
   "outputs": [
    {
     "data": {
      "text/plain": [
       "PLI (generic function with 3 methods)"
      ]
     },
     "execution_count": 207,
     "metadata": {},
     "output_type": "execute_result"
    }
   ],
   "source": [
    "function PLI(max_min, i, j, weights, A, b, C, d, E, f)\n",
    "    model = Model(GLPK.Optimizer) # Cria modelo\n",
    "    p = length(weights)\n",
    "\n",
    "    # Define variáveis\n",
    "    @variable(model, x[1:i, 1:j] >= 0)\n",
    "    x = reshape(x', p, 1)\n",
    "\n",
    "    # Define restrições\n",
    "    for l in 1:length(f)\n",
    "        @constraint(model, (E*x)[l] >= f[l]) # Restrições de desigualdade >=\n",
    "    end\n",
    "    for m in 1:length(b)\n",
    "        @constraint(model, (A*x)[m] == b[m]) # Restrições de igualdade\n",
    "    end\n",
    "    for n in 1:length(d)\n",
    "        @constraint(model, (C*x)[n] <= d[n]) # Restrições de desigualdade <=\n",
    "    end\n",
    "\n",
    "    # Define função objetivo\n",
    "    if max_min == 1\n",
    "        @objective(model, Max, sum(weights[k] * x[k] for k in 1:p)) # Problema de maximização\n",
    "    else\n",
    "        @objective(model, Min, sum(weights[k] * x[k] for k in 1:p)) # Problema de minimização\n",
    "    end\n",
    "    \n",
    "    # Roda a otimização\n",
    "    optimize!(model)\n",
    "    \n",
    "    # Exibe resultados\n",
    "    println(\"Função objetivo: \", objective_function(model))\n",
    "    println()\n",
    "    println(\"Valor ótimo: \", objective_value(model))\n",
    "    println()\n",
    "    println(\"Solução ótima:\")\n",
    "    for k in 1:p\n",
    "        println(x[k], \" = \", value(x[k]))\n",
    "    end\n",
    "end"
   ]
  },
  {
   "cell_type": "code",
   "execution_count": 210,
   "metadata": {},
   "outputs": [
    {
     "name": "stdout",
     "output_type": "stream",
     "text": [
      "Função objetivo: 50 x[1,1] + 90 x[1,2] + 80 x[1,3] + 60 x[2,2] + 50 x[2,3] + 30 x[3,2] + 40 x[3,3]\n",
      "\n",
      "Valor ótimo: 2500.0\n",
      "\n",
      "Solução ótima:\n",
      "x[1,1] = 20.0\n",
      "x[1,2] = 0.0\n",
      "x[1,3] = 0.0\n",
      "x[2,1] = 0.0\n",
      "x[2,2] = 0.0\n",
      "x[2,3] = 0.0\n",
      "x[3,1] = 0.0\n",
      "x[3,2] = 10.0\n",
      "x[3,3] = 30.0\n"
     ]
    }
   ],
   "source": [
    "# Problema da companhia energética (Q2-A1)\n",
    "A = [1 0 0 0 0 0 0 0 0;0 1 0 0 1 0 0 1 0;0 0 1 0 0 1 0 0 1]\n",
    "b = [20;10;30]\n",
    "C = [1 1 1 0 0 0 0 0 0;0 0 0 0 1 1 0 0 0;0 0 0 0 0 0 0 1 1]\n",
    "d = [50;20;50]\n",
    "weights = [50 90 80 0 60 50 0 30 40]\n",
    "i = 3\n",
    "j = 3\n",
    "\n",
    "PLI(0, i, j, weights, 0, 0, C, d, A, b)"
   ]
  },
  {
   "cell_type": "code",
   "execution_count": 213,
   "metadata": {},
   "outputs": [
    {
     "name": "stdout",
     "output_type": "stream",
     "text": [
      "Função objetivo: x[1,1] + 1.5 x[1,2] + 3.5 x[1,3] + 2 x[2,1] + x[2,2] + 2 x[2,3]\n",
      "\n",
      "Valor ótimo: 1000.0\n",
      "\n",
      "Solução ótima:\n",
      "x[1,1] = 100.0\n",
      "x[1,2] = 200.0\n",
      "x[1,3] = 0.0\n",
      "x[2,1] = 0.0\n",
      "x[2,2] = 0.0\n",
      "x[2,3] = 300.0\n"
     ]
    }
   ],
   "source": [
    "# Problema das usinas da fábrica (Q1-L1)\n",
    "E = [1 0 0 1 0 0;0 1 0 0 1 0;0 0 1 0 0 1]\n",
    "f = [100;200;300]\n",
    "C = [1 1 1 0 0 0;0 0 0 1 1 1]\n",
    "d = [400;300]\n",
    "weights = [1 1.5 3.5 2 1 2]\n",
    "i = 2\n",
    "j = 3\n",
    "\n",
    "PLI(0, i, j, weights, 0, 0, C, d, E, f)"
   ]
  },
  {
   "cell_type": "code",
   "execution_count": 217,
   "metadata": {},
   "outputs": [
    {
     "name": "stdout",
     "output_type": "stream",
     "text": [
      "Função objetivo: 7 x[1,1] + 9 x[2,1]\n",
      "\n",
      "Valor ótimo: 62.0\n",
      "\n",
      "Solução ótima:\n",
      "x[1,1] = 5.0\n",
      "x[2,1] = 3.0\n"
     ]
    }
   ],
   "source": [
    "# Problema da usina química (Q2-L1)\n",
    "C = [1 1;2 3;0 1]\n",
    "d = [8;19;4]\n",
    "weights = [7 9]\n",
    "i = 2\n",
    "j = 1\n",
    "\n",
    "PLI(1, i, j, weights, 0, 0, C, d, 0, 0)"
   ]
  },
  {
   "cell_type": "code",
   "execution_count": 214,
   "metadata": {},
   "outputs": [
    {
     "name": "stdout",
     "output_type": "stream",
     "text": [
      "Função objetivo: 38 x[1,1] + 27 x[1,2] + 48 x[1,3] + 37 x[2,1] + 58 x[2,2] + 45 x[2,3]\n",
      "\n",
      "Valor ótimo: 430.0\n",
      "\n",
      "Solução ótima:\n",
      "x[1,1] = 2.0\n",
      "x[1,2] = 4.0\n",
      "x[1,3] = 0.0\n",
      "x[2,1] = 3.0\n",
      "x[2,2] = 0.0\n",
      "x[2,3] = 3.0\n"
     ]
    }
   ],
   "source": [
    "# Problema das usinas de carro (Q3-L1)\n",
    "E = [1 0 0 1 0 0;0 1 0 0 1 0;0 0 1 0 0 1]\n",
    "f = [5;4;3]\n",
    "C = [1 1 1 0 0 0;0 0 0 1 1 1]\n",
    "d = [6;6]\n",
    "weights = [38 27 48 37 58 45]\n",
    "i = 2\n",
    "j = 3\n",
    "\n",
    "PLI(0, i, j, weights, 0, 0, C, d, E, f)"
   ]
  },
  {
   "cell_type": "code",
   "execution_count": 215,
   "metadata": {},
   "outputs": [
    {
     "name": "stdout",
     "output_type": "stream",
     "text": [
      "Função objetivo: 30 x[1,1] + 20 x[2,1]\n",
      "\n",
      "Valor ótimo: 240.0\n",
      "\n",
      "Solução ótima:\n",
      "x[1,1] = 4.0\n",
      "x[2,1] = 6.0\n"
     ]
    }
   ],
   "source": [
    "# Problema do sapateiro (Q4-L1) versão 1\n",
    "C = [1 1;12 5]\n",
    "d = [10;78]\n",
    "weights = [30 20]\n",
    "i = 2\n",
    "j = 1\n",
    "\n",
    "PLI(1, i, j, weights, 0, 0, C, d, 0, 0)"
   ]
  },
  {
   "cell_type": "code",
   "execution_count": 216,
   "metadata": {},
   "outputs": [
    {
     "name": "stdout",
     "output_type": "stream",
     "text": [
      "Função objetivo: 5 x[1,1] + 4 x[2,1]\n",
      "\n",
      "Valor ótimo: 240.0\n",
      "\n",
      "Solução ótima:\n",
      "x[1,1] = 24.0\n",
      "x[2,1] = 29.999999999999996\n"
     ]
    }
   ],
   "source": [
    "# Problema do sapateiro (Q4-L1) versão 2\n",
    "C = [1/6 1/5;2 1]\n",
    "d = [10;78]\n",
    "weights = [5 4]\n",
    "i = 2\n",
    "j = 1\n",
    "\n",
    "PLI(1, i, j, weights, 0, 0, C, d, 0, 0)"
   ]
  },
  {
   "cell_type": "code",
   "execution_count": 212,
   "metadata": {},
   "outputs": [
    {
     "name": "stdout",
     "output_type": "stream",
     "text": [
      "Função objetivo: 20 x[1,1] + 30 x[2,1]\n",
      "\n",
      "Valor ótimo: 12000.0\n",
      "\n",
      "Solução ótima:\n",
      "x[1,1] = 0.0\n",
      "x[2,1] = 400.0\n"
     ]
    }
   ],
   "source": [
    "# Problema do combustível para avião (Q5-L1)\n",
    "C = [0.25 0;0.25 0.5;0.5 0.5]\n",
    "d = [500;200;200]\n",
    "weights = [20 30]\n",
    "i = 2\n",
    "j = 1\n",
    "\n",
    "PLI(1, i, j, weights, 0, 0, C, d, 0, 0)"
   ]
  }
 ],
 "metadata": {
  "kernelspec": {
   "display_name": "Julia 1.10.3",
   "language": "julia",
   "name": "julia-1.10"
  },
  "language_info": {
   "file_extension": ".jl",
   "mimetype": "application/julia",
   "name": "julia",
   "version": "1.10.3"
  }
 },
 "nbformat": 4,
 "nbformat_minor": 4
}
