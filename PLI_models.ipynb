{
 "cells": [
  {
   "cell_type": "code",
   "execution_count": 15,
   "metadata": {},
   "outputs": [
    {
     "data": {
      "text/plain": [
       "A JuMP Model\n",
       "Maximization problem with:\n",
       "Variables: 2\n",
       "Objective function type: AffExpr\n",
       "`AffExpr`-in-`MathOptInterface.LessThan{Float64}`: 2 constraints\n",
       "`VariableRef`-in-`MathOptInterface.GreaterThan{Float64}`: 2 constraints\n",
       "Model mode: AUTOMATIC\n",
       "CachingOptimizer state: ATTACHED_OPTIMIZER\n",
       "Solver name: GLPK\n",
       "Names registered in the model: x, y"
      ]
     },
     "execution_count": 15,
     "metadata": {},
     "output_type": "execute_result"
    }
   ],
   "source": [
    "using LinearAlgebra\n",
    "using JuMP\n",
    "using GLPK\n",
    "using Plots\n",
    "pyplot()\n",
    "\n",
    "model = Model()\n",
    "set_optimizer(model, GLPK.Optimizer)\n",
    "\n",
    "#Define variables\n",
    "@variable(model, x>=0)\n",
    "@variable(model, y>=0)\n",
    "\n",
    "#Define Constraints\n",
    "@constraint(model, x/6+y/5<=10)\n",
    "@constraint(model, 2x+y<=78)\n",
    "\n",
    "#Define Objective\n",
    "@objective(model, Max, 5x+4y)\n",
    "\n",
    "#Run the opimization\n",
    "optimize!(model)\n",
    "\n",
    "model"
   ]
  },
  {
   "cell_type": "code",
   "execution_count": 16,
   "metadata": {},
   "outputs": [
    {
     "name": "stdout",
     "output_type": "stream",
     "text": [
      "240.0\n",
      "MAX_SENSE\n",
      "24.0\n",
      "29.999999999999996\n"
     ]
    }
   ],
   "source": [
    "println(objective_value(model))\n",
    "println(objective_sense(model))\n",
    "println(value.(x))\n",
    "println(value.(y))"
   ]
  },
  {
   "cell_type": "code",
   "execution_count": 62,
   "metadata": {},
   "outputs": [
    {
     "data": {
      "text/plain": [
       "A JuMP Model\n",
       "Maximization problem with:\n",
       "Variables: 3\n",
       "Objective function type: AffExpr\n",
       "`AffExpr`-in-`MathOptInterface.LessThan{Float64}`: 2 constraints\n",
       "`VariableRef`-in-`MathOptInterface.GreaterThan{Float64}`: 3 constraints\n",
       "Model mode: AUTOMATIC\n",
       "CachingOptimizer state: ATTACHED_OPTIMIZER\n",
       "Solver name: GLPK\n",
       "Names registered in the model: x, y, z"
      ]
     },
     "execution_count": 62,
     "metadata": {},
     "output_type": "execute_result"
    }
   ],
   "source": [
    "using LinearAlgebra\n",
    "using JuMP\n",
    "using GLPK\n",
    "using Plots\n",
    "pyplot()\n",
    "\n",
    "model = Model()\n",
    "set_optimizer(model, GLPK.Optimizer)\n",
    "\n",
    "#Define variables\n",
    "@variable(model, x>=0)\n",
    "@variable(model, y>=0)\n",
    "@variable(model, z>=0)\n",
    "\n",
    "#Define Constraints\n",
    "@constraint(model, x+y<=10)\n",
    "@constraint(model, 12x+5y<=78)\n",
    "\n",
    "#Define Objective\n",
    "@objective(model, Max, 30x+20y)\n",
    "\n",
    "#Run the opimization\n",
    "optimize!(model)\n",
    "\n",
    "model"
   ]
  },
  {
   "cell_type": "code",
   "execution_count": 63,
   "metadata": {},
   "outputs": [
    {
     "name": "stdout",
     "output_type": "stream",
     "text": [
      "240.0\n",
      "MAX_SENSE\n",
      "4.0\n",
      "6.0\n"
     ]
    }
   ],
   "source": [
    "println(objective_value(model))\n",
    "println(objective_sense(model))\n",
    "println(value.(x))\n",
    "println(value.(y))"
   ]
  }
 ],
 "metadata": {
  "kernelspec": {
   "display_name": "Julia 1.10.3",
   "language": "julia",
   "name": "julia-1.10"
  },
  "language_info": {
   "file_extension": ".jl",
   "mimetype": "application/julia",
   "name": "julia",
   "version": "1.10.3"
  }
 },
 "nbformat": 4,
 "nbformat_minor": 4
}
