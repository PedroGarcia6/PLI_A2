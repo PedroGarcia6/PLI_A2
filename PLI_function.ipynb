{
 "cells": [
  {
   "cell_type": "code",
   "execution_count": null,
   "metadata": {},
   "outputs": [],
   "source": [
    "using LinearAlgebra\n",
    "using JuMP\n",
    "using GLPK\n",
    "using Plots\n",
    "pyplot()"
   ]
  },
  {
   "cell_type": "code",
   "execution_count": null,
   "metadata": {},
   "outputs": [],
   "source": [
    "# A função \"PLI\" abaixo recebe 10 parâmteros.\n",
    "# Modo de chamar: \"PLI(max_min, i, j, weights, A, b, C, d, E, f)\"\n",
    "\n",
    "# Parâmetros:\n",
    "# max_min := 1 se for um problema de maximização, 0 se for um problema de minimização.\n",
    "# i, j := dimensões do vetor de variáveis (se for unidimensional, j=1).\n",
    "# weights := vetor de pesos da função objetivo (em ordem matricial).\n",
    "# A, b := matriz e vetor das restrições de igualdade.\n",
    "# C, d := matriz e vetor das restrições de desigualdade <=.\n",
    "# E, f := matriz e vetor das restrições de desigualdade >=.\n",
    "\n",
    "# Observação: Restrições que não se aplicarem ao problema devem ser 0 ao chamar a função.\n",
    "\n",
    "# A função printa 3 resultados: Função objetivo, valor ótimo e solução ótima."
   ]
  },
  {
   "cell_type": "code",
   "execution_count": 207,
   "metadata": {},
   "outputs": [
    {
     "data": {
      "text/plain": [
       "PLI (generic function with 3 methods)"
      ]
     },
     "execution_count": 207,
     "metadata": {},
     "output_type": "execute_result"
    }
   ],
   "source": [
    "function PLI(max_min, i, j, weights, A, b, C, d, E, f)\n",
    "    model = Model(GLPK.Optimizer) # Cria modelo\n",
    "    p = length(weights)\n",
    "\n",
    "    # Define variáveis\n",
    "    @variable(model, x[1:i, 1:j] >= 0)\n",
    "    x = reshape(x', p, 1)\n",
    "\n",
    "    # Define restrições\n",
    "    for l in 1:length(f)\n",
    "        @constraint(model, (E*x)[l] >= f[l]) # Restrições de desigualdade >=\n",
    "    end\n",
    "    for m in 1:length(b)\n",
    "        @constraint(model, (A*x)[m] == b[m]) # Restrições de igualdade\n",
    "    end\n",
    "    for n in 1:length(d)\n",
    "        @constraint(model, (C*x)[n] <= d[n]) # Restrições de desigualdade <=\n",
    "    end\n",
    "\n",
    "    # Define função objetivo\n",
    "    if max_min == 1\n",
    "        @objective(model, Max, sum(weights[k] * x[k] for k in 1:p)) # Problema de maximização\n",
    "    else\n",
    "        @objective(model, Min, sum(weights[k] * x[k] for k in 1:p)) # Problema de minimização\n",
    "    end\n",
    "    \n",
    "    # Roda a otimização\n",
    "    optimize!(model)\n",
    "    \n",
    "    # Exibe resultados\n",
    "    println(\"Função objetivo: \", objective_function(model))\n",
    "    println()\n",
    "    println(\"Valor ótimo: \", objective_value(model))\n",
    "    println()\n",
    "    println(\"Solução ótima:\")\n",
    "    for k in 1:p\n",
    "        println(x[k], \" = \", value(x[k]))\n",
    "    end\n",
    "end"
   ]
  },
  {
   "cell_type": "code",
   "execution_count": 213,
   "metadata": {},
   "outputs": [
    {
     "name": "stdout",
     "output_type": "stream",
     "text": [
      "Função objetivo: x[1,1] + 1.5 x[1,2] + 3.5 x[1,3] + 2 x[2,1] + x[2,2] + 2 x[2,3]\n",
      "\n",
      "Valor ótimo: 1000.0\n",
      "\n",
      "Solução ótima:\n",
      "x[1,1] = 100.0\n",
      "x[1,2] = 200.0\n",
      "x[1,3] = 0.0\n",
      "x[2,1] = 0.0\n",
      "x[2,2] = 0.0\n",
      "x[2,3] = 300.0\n"
     ]
    }
   ],
   "source": [
    "# Exemplo: Problema das usinas da fábrica (Q1-L1)\n",
    "E = [1 0 0 1 0 0;0 1 0 0 1 0;0 0 1 0 0 1]\n",
    "f = [100;200;300]\n",
    "C = [1 1 1 0 0 0;0 0 0 1 1 1]\n",
    "d = [400;300]\n",
    "weights = [1 1.5 3.5 2 1 2]\n",
    "i = 2\n",
    "j = 3\n",
    "\n",
    "PLI(0, i, j, weights, 0, 0, C, d, E, f)"
   ]
  }
 ],
 "metadata": {
  "kernelspec": {
   "display_name": "Julia 1.10.3",
   "language": "julia",
   "name": "julia-1.10"
  },
  "language_info": {
   "file_extension": ".jl",
   "mimetype": "application/julia",
   "name": "julia",
   "version": "1.10.3"
  }
 },
 "nbformat": 4,
 "nbformat_minor": 4
}
